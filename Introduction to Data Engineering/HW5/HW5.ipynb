{
  "nbformat": 4,
  "nbformat_minor": 0,
  "metadata": {
    "colab": {
      "name": "313354763_208421271.ipynb",
      "provenance": [],
      "collapsed_sections": []
    },
    "kernelspec": {
      "display_name": "Python 3",
      "name": "python3"
    }
  },
  "cells": [
    {
      "cell_type": "code",
      "metadata": {
        "colab": {
          "base_uri": "https://localhost:8080/"
        },
        "id": "6YPp43QOg8fY",
        "outputId": "b9bd703d-d6d3-425d-ebd7-c5f982ea568b"
      },
      "source": [
        "!mkdir /root/.kaggle/\n",
        "!pip install regex\n",
        "!pip install pandas\n",
        "\n",
        "import os\n",
        "import json\n",
        "import regex as re\n",
        "import pandas as pd\n",
        "\n",
        "\n",
        "# Installing the Kaggle package\n",
        "!pip install kaggle \n",
        "\n",
        "#Important Note: complete this with your own key - after running this for the first time remmember to **remove** your API_KEY\n",
        "api_token = {\"username\":\"some\",\"key\":\"thing\"}\n",
        "\n",
        "\n",
        "# creating kaggle.json file with the personal API-Key details \n",
        "# You can also put this file on your Google Drive\n",
        "with open('/root/.kaggle/kaggle.json', 'w') as file:\n",
        "  json.dump(api_token, file)\n",
        "!chmod 600 /root/.kaggle/kaggle.json"
      ],
      "execution_count": null,
      "outputs": [
        {
          "output_type": "stream",
          "text": [
            "mkdir: cannot create directory ‘/root/.kaggle/’: File exists\n",
            "Requirement already satisfied: regex in /usr/local/lib/python3.6/dist-packages (2019.12.20)\n",
            "Requirement already satisfied: pandas in /usr/local/lib/python3.6/dist-packages (1.1.4)\n",
            "Requirement already satisfied: pytz>=2017.2 in /usr/local/lib/python3.6/dist-packages (from pandas) (2018.9)\n",
            "Requirement already satisfied: numpy>=1.15.4 in /usr/local/lib/python3.6/dist-packages (from pandas) (1.18.5)\n",
            "Requirement already satisfied: python-dateutil>=2.7.3 in /usr/local/lib/python3.6/dist-packages (from pandas) (2.8.1)\n",
            "Requirement already satisfied: six>=1.5 in /usr/local/lib/python3.6/dist-packages (from python-dateutil>=2.7.3->pandas) (1.15.0)\n",
            "Requirement already satisfied: kaggle in /usr/local/lib/python3.6/dist-packages (1.5.9)\n",
            "Requirement already satisfied: tqdm in /usr/local/lib/python3.6/dist-packages (from kaggle) (4.41.1)\n",
            "Requirement already satisfied: python-slugify in /usr/local/lib/python3.6/dist-packages (from kaggle) (4.0.1)\n",
            "Requirement already satisfied: six>=1.10 in /usr/local/lib/python3.6/dist-packages (from kaggle) (1.15.0)\n",
            "Requirement already satisfied: slugify in /usr/local/lib/python3.6/dist-packages (from kaggle) (0.0.1)\n",
            "Requirement already satisfied: urllib3 in /usr/local/lib/python3.6/dist-packages (from kaggle) (1.24.3)\n",
            "Requirement already satisfied: requests in /usr/local/lib/python3.6/dist-packages (from kaggle) (2.23.0)\n",
            "Requirement already satisfied: certifi in /usr/local/lib/python3.6/dist-packages (from kaggle) (2020.11.8)\n",
            "Requirement already satisfied: python-dateutil in /usr/local/lib/python3.6/dist-packages (from kaggle) (2.8.1)\n",
            "Requirement already satisfied: text-unidecode>=1.3 in /usr/local/lib/python3.6/dist-packages (from python-slugify->kaggle) (1.3)\n",
            "Requirement already satisfied: idna<3,>=2.5 in /usr/local/lib/python3.6/dist-packages (from requests->kaggle) (2.10)\n",
            "Requirement already satisfied: chardet<4,>=3.0.2 in /usr/local/lib/python3.6/dist-packages (from requests->kaggle) (3.0.4)\n"
          ],
          "name": "stdout"
        }
      ]
    },
    {
      "cell_type": "markdown",
      "metadata": {
        "id": "VNmwAV8-iw1h"
      },
      "source": [
        "# Q1"
      ]
    },
    {
      "cell_type": "code",
      "metadata": {
        "colab": {
          "base_uri": "https://localhost:8080/"
        },
        "id": "zHBVfIbbhn0w",
        "outputId": "94245e95-4b9d-4d9f-b0b6-e22d60f14620"
      },
      "source": [
        "# download the dataset from Kaggle and unzip it\n",
        "!kaggle datasets download -d rtatman/blog-authorship-corpus -p ./datasets/blog/\n",
        "!unzip ./datasets/blog/*.zip  -d ./datasets/blog/\n",
        "\n",
        "blog_df = pd.read_csv('/content/datasets/blog/blogtext.csv')"
      ],
      "execution_count": null,
      "outputs": [
        {
          "output_type": "stream",
          "text": [
            "blog-authorship-corpus.zip: Skipping, found more recently modified local copy (use --force to force download)\n",
            "Archive:  ./datasets/blog/blog-authorship-corpus.zip\n",
            "  inflating: ./datasets/blog/blogtext.csv  \n"
          ],
          "name": "stdout"
        }
      ]
    },
    {
      "cell_type": "markdown",
      "metadata": {
        "id": "5m3WdQxBmo1x"
      },
      "source": [
        "## 1"
      ]
    },
    {
      "cell_type": "code",
      "metadata": {
        "id": "ZePS3ND3i38z",
        "colab": {
          "base_uri": "https://localhost:8080/"
        },
        "outputId": "1fb9c897-41cc-4391-ec9d-8e05fb093f07"
      },
      "source": [
        "signs = list(set(blog_df.sign))\n",
        "dic = {n:0 for n in signs}\n",
        "for i in range(len(blog_df.text)):\n",
        "  p = re.findall('\\w+', blog_df.text[i])\n",
        "  s = len(list(filter(lambda n: len(n) >= 8, p)))\n",
        "  dic[blog_df.sign[i]] += s\n",
        "\n",
        "print(list(filter(lambda n: dic[n] == dic[max(dic, key=dic.get)], dic.keys())))"
      ],
      "execution_count": null,
      "outputs": [
        {
          "output_type": "stream",
          "text": [
            "['Cancer']\n"
          ],
          "name": "stdout"
        }
      ]
    },
    {
      "cell_type": "markdown",
      "metadata": {
        "id": "mO7Of1eZhvYs"
      },
      "source": [
        "## 2"
      ]
    },
    {
      "cell_type": "code",
      "metadata": {
        "id": "xxyMQRWYjD9R"
      },
      "source": [
        "import datetime as dt\n",
        "dic = {n:0 for n in range(0,7)}\n",
        "for i in range(len(blog_df.date)):\n",
        "  try: \n",
        "    date_obj = dt.datetime.strptime(blog_df.date[i], '%d,%B,%Y')\n",
        "  except ValueError:\n",
        "    continue\n",
        "  dic[date_obj.weekday()] += 1"
      ],
      "execution_count": null,
      "outputs": []
    },
    {
      "cell_type": "code",
      "metadata": {
        "id": "YJ6OsRHtnQs0",
        "colab": {
          "base_uri": "https://localhost:8080/"
        },
        "outputId": "c129178c-3fde-48c3-9b0a-194c1da9430a"
      },
      "source": [
        "import calendar as cl\n",
        "for i in range(7):\n",
        "  print(cl.day_name[i], dic[i])"
      ],
      "execution_count": null,
      "outputs": [
        {
          "output_type": "stream",
          "text": [
            "Monday 115289\n",
            "Tuesday 110235\n",
            "Wednesday 100156\n",
            "Thursday 104817\n",
            "Friday 85935\n",
            "Saturday 64305\n",
            "Sunday 92801\n"
          ],
          "name": "stdout"
        }
      ]
    },
    {
      "cell_type": "markdown",
      "metadata": {
        "id": "YDYhRwvoUCIx"
      },
      "source": [
        "## 3"
      ]
    },
    {
      "cell_type": "code",
      "metadata": {
        "id": "sHrwLzx4UGCZ",
        "colab": {
          "base_uri": "https://localhost:8080/"
        },
        "outputId": "fe7f027e-79a5-4b9d-f4a3-d3920b4af571"
      },
      "source": [
        "dic = {i:0 for i in list(set(blog_df.topic))}\n",
        "for i in range(len(blog_df.text)):\n",
        "  email = re.findall(r'[\\w\\.-]+@[\\w\\.-]+', blog_df.text[i])\n",
        "  dic[blog_df.topic[i]] += len(email)\n",
        "\n",
        "dic"
      ],
      "execution_count": null,
      "outputs": [
        {
          "output_type": "execute_result",
          "data": {
            "text/plain": [
              "{'Accounting': 38,\n",
              " 'Advertising': 43,\n",
              " 'Agriculture': 4,\n",
              " 'Architecture': 33,\n",
              " 'Arts': 348,\n",
              " 'Automotive': 5,\n",
              " 'Banking': 27,\n",
              " 'Biotech': 79,\n",
              " 'BusinessServices': 78,\n",
              " 'Chemicals': 43,\n",
              " 'Communications-Media': 337,\n",
              " 'Construction': 17,\n",
              " 'Consulting': 78,\n",
              " 'Education': 416,\n",
              " 'Engineering': 107,\n",
              " 'Environment': 4,\n",
              " 'Fashion': 25,\n",
              " 'Government': 42,\n",
              " 'HumanResources': 29,\n",
              " 'Internet': 417,\n",
              " 'InvestmentBanking': 0,\n",
              " 'Law': 50,\n",
              " 'LawEnforcement-Security': 19,\n",
              " 'Manufacturing': 7,\n",
              " 'Maritime': 4,\n",
              " 'Marketing': 75,\n",
              " 'Military': 17,\n",
              " 'Museums-Libraries': 36,\n",
              " 'Non-Profit': 478,\n",
              " 'Publishing': 88,\n",
              " 'RealEstate': 19,\n",
              " 'Religion': 47,\n",
              " 'Science': 109,\n",
              " 'Sports-Recreation': 32,\n",
              " 'Student': 1550,\n",
              " 'Technology': 561,\n",
              " 'Telecommunications': 53,\n",
              " 'Tourism': 29,\n",
              " 'Transportation': 20,\n",
              " 'indUnk': 2278}"
            ]
          },
          "metadata": {
            "tags": []
          },
          "execution_count": 18
        }
      ]
    },
    {
      "cell_type": "markdown",
      "metadata": {
        "id": "_dtPUphPXNn9"
      },
      "source": [
        "## 4"
      ]
    },
    {
      "cell_type": "code",
      "metadata": {
        "id": "MWU-GGY6XPG0",
        "colab": {
          "base_uri": "https://localhost:8080/"
        },
        "outputId": "0f5dd769-c256-4f1f-820a-e114b7e83430"
      },
      "source": [
        "dic = {i:0 for i in list(set(blog_df.id))}\n",
        "for i in range(len(blog_df.text)):\n",
        "  url = re.findall(r\"(?i)\\b((?:https?://|www\\d{0,3}[.]|[a-z0-9.\\-]+[.][a-z]{2,4}/)(?:[^\\s()<>]+|\\(([^\\s()<>]+|(\\([^\\s()<>]+\\)))*\\))+(?:\\(([^\\s()<>]+|(\\([^\\s()<>]+\\)))*\\)|[^\\s`!()\\[\\]{};:'\\\".,<>?«»“”‘’]))\", blog_df.text[i])\n",
        "  dic[blog_df.id[i]] += len(url)\n",
        "\n",
        "print(list(filter(lambda n: dic[n] == dic[max(dic, key=dic.get)], dic.keys())))"
      ],
      "execution_count": null,
      "outputs": [
        {
          "output_type": "stream",
          "text": [
            "[3495970]\n"
          ],
          "name": "stdout"
        }
      ]
    },
    {
      "cell_type": "markdown",
      "metadata": {
        "id": "yf2p5nwaZ7dn"
      },
      "source": [
        "## 5"
      ]
    },
    {
      "cell_type": "code",
      "metadata": {
        "id": "05BTUMRff68n",
        "colab": {
          "base_uri": "https://localhost:8080/"
        },
        "outputId": "f031f626-69fe-4650-8367-b390ea5dcada"
      },
      "source": [
        "dic = {i:0 for i in list(set(blog_df.topic))}\n",
        "for i in range(len(blog_df.text)):\n",
        "  num = re.findall(r\"[\\d,]+\", blog_df.text[i])\n",
        "  if len(num) and len(max(num, key=len)) >  dic[blog_df.topic[i]]:\n",
        "    dic[blog_df.topic[i]] = len(max(num, key=len))\n",
        "\n",
        "print(list(filter(lambda n: dic[n] == dic[max(dic, key=dic.get)], dic.keys())))"
      ],
      "execution_count": null,
      "outputs": [
        {
          "output_type": "stream",
          "text": [
            "['Student']\n"
          ],
          "name": "stdout"
        }
      ]
    },
    {
      "cell_type": "markdown",
      "metadata": {
        "id": "owm-fMBddE7S"
      },
      "source": [
        "#Q2"
      ]
    },
    {
      "cell_type": "code",
      "metadata": {
        "id": "jA_mFF8JdNIg",
        "colab": {
          "base_uri": "https://localhost:8080/"
        },
        "outputId": "a14f880f-9b0d-4fe1-ce61-a14c719ce993"
      },
      "source": [
        "# download the dataset from Kaggle and unzip it\n",
        "!kaggle datasets download -d NUFORC/ufo-sightings -p ./datasets/UFO/\n",
        "!unzip ./datasets/UFO/*.zip  -d ./datasets/UFO/\n",
        "df_comp = pd.read_csv('/content/datasets/UFO/complete.csv', error_bad_lines=False)"
      ],
      "execution_count": null,
      "outputs": [
        {
          "output_type": "stream",
          "text": [
            "ufo-sightings.zip: Skipping, found more recently modified local copy (use --force to force download)\n",
            "Archive:  ./datasets/UFO/ufo-sightings.zip\n",
            "replace ./datasets/UFO/complete.csv? [y]es, [n]o, [A]ll, [N]one, [r]ename: A\n",
            "  inflating: ./datasets/UFO/complete.csv  \n",
            "  inflating: ./datasets/UFO/scrubbed.csv  \n"
          ],
          "name": "stdout"
        },
        {
          "output_type": "stream",
          "text": [
            "b'Skipping line 878: expected 11 fields, saw 12\\nSkipping line 1713: expected 11 fields, saw 12\\nSkipping line 1815: expected 11 fields, saw 12\\nSkipping line 2858: expected 11 fields, saw 12\\nSkipping line 3734: expected 11 fields, saw 12\\nSkipping line 4756: expected 11 fields, saw 12\\nSkipping line 5389: expected 11 fields, saw 12\\nSkipping line 5423: expected 11 fields, saw 12\\nSkipping line 5614: expected 11 fields, saw 12\\nSkipping line 5849: expected 11 fields, saw 12\\nSkipping line 6093: expected 11 fields, saw 12\\nSkipping line 7516: expected 11 fields, saw 12\\nSkipping line 7626: expected 11 fields, saw 12\\nSkipping line 8893: expected 11 fields, saw 12\\nSkipping line 9015: expected 11 fields, saw 12\\nSkipping line 9571: expected 11 fields, saw 12\\nSkipping line 9620: expected 11 fields, saw 12\\nSkipping line 9751: expected 11 fields, saw 12\\nSkipping line 10157: expected 11 fields, saw 12\\nSkipping line 10427: expected 11 fields, saw 12\\nSkipping line 12035: expected 11 fields, saw 12\\nSkipping line 12113: expected 11 fields, saw 12\\nSkipping line 12144: expected 11 fields, saw 12\\nSkipping line 12891: expected 11 fields, saw 12\\nSkipping line 14613: expected 11 fields, saw 12\\nSkipping line 16031: expected 11 fields, saw 12\\nSkipping line 16344: expected 11 fields, saw 12\\nSkipping line 16399: expected 11 fields, saw 12\\nSkipping line 16635: expected 11 fields, saw 12\\nSkipping line 16722: expected 11 fields, saw 12\\nSkipping line 18241: expected 11 fields, saw 12\\nSkipping line 18367: expected 11 fields, saw 12\\nSkipping line 18479: expected 11 fields, saw 12\\nSkipping line 19814: expected 11 fields, saw 12\\nSkipping line 19859: expected 11 fields, saw 12\\nSkipping line 19909: expected 11 fields, saw 12\\nSkipping line 19935: expected 11 fields, saw 12\\nSkipping line 20386: expected 11 fields, saw 12\\nSkipping line 20533: expected 11 fields, saw 12\\nSkipping line 20764: expected 11 fields, saw 12\\nSkipping line 21145: expected 11 fields, saw 12\\nSkipping line 21291: expected 11 fields, saw 12\\nSkipping line 21309: expected 11 fields, saw 12\\nSkipping line 21576: expected 11 fields, saw 12\\nSkipping line 21966: expected 11 fields, saw 12\\nSkipping line 22092: expected 11 fields, saw 12\\nSkipping line 22108: expected 11 fields, saw 12\\nSkipping line 22236: expected 11 fields, saw 12\\nSkipping line 22785: expected 11 fields, saw 12\\nSkipping line 23143: expected 11 fields, saw 12\\nSkipping line 23145: expected 11 fields, saw 12\\nSkipping line 23251: expected 11 fields, saw 12\\nSkipping line 23369: expected 11 fields, saw 12\\nSkipping line 23464: expected 11 fields, saw 12\\nSkipping line 23622: expected 11 fields, saw 12\\nSkipping line 23732: expected 11 fields, saw 12\\nSkipping line 23924: expected 11 fields, saw 12\\nSkipping line 24696: expected 11 fields, saw 12\\nSkipping line 25543: expected 11 fields, saw 12\\nSkipping line 25703: expected 11 fields, saw 12\\nSkipping line 25815: expected 11 fields, saw 12\\nSkipping line 26185: expected 11 fields, saw 12\\nSkipping line 27424: expected 11 fields, saw 12\\nSkipping line 27465: expected 11 fields, saw 12\\nSkipping line 28083: expected 11 fields, saw 12\\nSkipping line 28282: expected 11 fields, saw 12\\nSkipping line 28460: expected 11 fields, saw 12\\nSkipping line 28745: expected 11 fields, saw 12\\nSkipping line 29674: expected 11 fields, saw 12\\nSkipping line 30342: expected 11 fields, saw 12\\nSkipping line 30417: expected 11 fields, saw 12\\nSkipping line 31154: expected 11 fields, saw 12\\nSkipping line 31308: expected 11 fields, saw 12\\nSkipping line 32198: expected 11 fields, saw 12\\nSkipping line 32439: expected 11 fields, saw 12\\nSkipping line 32675: expected 11 fields, saw 12\\nSkipping line 33134: expected 11 fields, saw 12\\nSkipping line 33442: expected 11 fields, saw 12\\nSkipping line 34184: expected 11 fields, saw 12\\nSkipping line 34731: expected 11 fields, saw 12\\nSkipping line 34869: expected 11 fields, saw 12\\nSkipping line 35107: expected 11 fields, saw 12\\nSkipping line 35300: expected 11 fields, saw 12\\nSkipping line 35396: expected 11 fields, saw 12\\nSkipping line 35913: expected 11 fields, saw 12\\nSkipping line 36445: expected 11 fields, saw 12\\nSkipping line 36693: expected 11 fields, saw 12\\nSkipping line 36723: expected 11 fields, saw 12\\nSkipping line 37293: expected 11 fields, saw 12\\nSkipping line 37361: expected 11 fields, saw 12\\nSkipping line 37980: expected 11 fields, saw 12\\nSkipping line 38090: expected 11 fields, saw 12\\nSkipping line 38197: expected 11 fields, saw 12\\nSkipping line 39431: expected 11 fields, saw 12\\nSkipping line 39598: expected 11 fields, saw 12\\nSkipping line 39679: expected 11 fields, saw 12\\nSkipping line 39794: expected 11 fields, saw 12\\nSkipping line 40021: expected 11 fields, saw 12\\nSkipping line 40430: expected 11 fields, saw 12\\nSkipping line 42858: expected 11 fields, saw 12\\nSkipping line 43662: expected 11 fields, saw 12\\nSkipping line 44162: expected 11 fields, saw 12\\nSkipping line 45529: expected 11 fields, saw 12\\nSkipping line 46678: expected 11 fields, saw 12\\nSkipping line 46788: expected 11 fields, saw 12\\nSkipping line 46811: expected 11 fields, saw 12\\nSkipping line 46924: expected 11 fields, saw 12\\nSkipping line 47287: expected 11 fields, saw 12\\nSkipping line 47377: expected 11 fields, saw 12\\nSkipping line 47419: expected 11 fields, saw 12\\nSkipping line 47492: expected 11 fields, saw 12\\nSkipping line 47629: expected 11 fields, saw 12\\nSkipping line 48125: expected 11 fields, saw 12\\nSkipping line 48932: expected 11 fields, saw 12\\nSkipping line 48971: expected 11 fields, saw 12\\nSkipping line 49440: expected 11 fields, saw 12\\nSkipping line 49457: expected 11 fields, saw 12\\nSkipping line 50670: expected 11 fields, saw 12\\nSkipping line 50960: expected 11 fields, saw 12\\nSkipping line 51275: expected 11 fields, saw 12\\nSkipping line 51649: expected 11 fields, saw 12\\nSkipping line 51993: expected 11 fields, saw 12\\nSkipping line 52023: expected 11 fields, saw 12\\nSkipping line 52059: expected 11 fields, saw 12\\nSkipping line 52259: expected 11 fields, saw 12\\nSkipping line 52368: expected 11 fields, saw 12\\nSkipping line 52783: expected 11 fields, saw 12\\nSkipping line 53064: expected 11 fields, saw 12\\nSkipping line 53135: expected 11 fields, saw 12\\nSkipping line 53514: expected 11 fields, saw 12\\nSkipping line 54092: expected 11 fields, saw 12\\nSkipping line 55403: expected 11 fields, saw 12\\nSkipping line 57476: expected 11 fields, saw 12\\nSkipping line 58646: expected 11 fields, saw 12\\nSkipping line 58808: expected 11 fields, saw 12\\nSkipping line 59119: expected 11 fields, saw 12\\nSkipping line 59727: expected 11 fields, saw 12\\nSkipping line 60386: expected 11 fields, saw 12\\nSkipping line 60478: expected 11 fields, saw 12\\nSkipping line 60542: expected 11 fields, saw 12\\nSkipping line 60913: expected 11 fields, saw 12\\nSkipping line 61032: expected 11 fields, saw 12\\nSkipping line 61640: expected 11 fields, saw 12\\nSkipping line 61732: expected 11 fields, saw 12\\nSkipping line 62029: expected 11 fields, saw 12\\nSkipping line 62219: expected 11 fields, saw 12\\nSkipping line 63657: expected 11 fields, saw 12\\nSkipping line 64712: expected 11 fields, saw 12\\n'\n",
            "b'Skipping line 65881: expected 11 fields, saw 12\\nSkipping line 66093: expected 11 fields, saw 12\\nSkipping line 66095: expected 11 fields, saw 12\\nSkipping line 66476: expected 11 fields, saw 12\\nSkipping line 66549: expected 11 fields, saw 12\\nSkipping line 66550: expected 11 fields, saw 12\\nSkipping line 68102: expected 11 fields, saw 12\\nSkipping line 69441: expected 11 fields, saw 12\\nSkipping line 70104: expected 11 fields, saw 12\\nSkipping line 70452: expected 11 fields, saw 12\\nSkipping line 70642: expected 11 fields, saw 12\\nSkipping line 70644: expected 11 fields, saw 12\\nSkipping line 70716: expected 11 fields, saw 12\\nSkipping line 71345: expected 11 fields, saw 12\\nSkipping line 71634: expected 11 fields, saw 12\\nSkipping line 72091: expected 11 fields, saw 12\\nSkipping line 72119: expected 11 fields, saw 12\\nSkipping line 73543: expected 11 fields, saw 12\\nSkipping line 74654: expected 11 fields, saw 12\\nSkipping line 74785: expected 11 fields, saw 12\\nSkipping line 74918: expected 11 fields, saw 12\\nSkipping line 75062: expected 11 fields, saw 12\\nSkipping line 75346: expected 11 fields, saw 12\\nSkipping line 75416: expected 11 fields, saw 12\\nSkipping line 75677: expected 11 fields, saw 12\\nSkipping line 75833: expected 11 fields, saw 12\\nSkipping line 76117: expected 11 fields, saw 12\\nSkipping line 76834: expected 11 fields, saw 12\\nSkipping line 77540: expected 11 fields, saw 12\\nSkipping line 77568: expected 11 fields, saw 12\\nSkipping line 77607: expected 11 fields, saw 12\\nSkipping line 77871: expected 11 fields, saw 12\\nSkipping line 78117: expected 11 fields, saw 12\\nSkipping line 78526: expected 11 fields, saw 12\\nSkipping line 78605: expected 11 fields, saw 12\\nSkipping line 79151: expected 11 fields, saw 12\\nSkipping line 79945: expected 11 fields, saw 12\\nSkipping line 80156: expected 11 fields, saw 12\\nSkipping line 80328: expected 11 fields, saw 12\\nSkipping line 80382: expected 11 fields, saw 12\\nSkipping line 80421: expected 11 fields, saw 12\\nSkipping line 80503: expected 11 fields, saw 12\\nSkipping line 82071: expected 11 fields, saw 12\\nSkipping line 82566: expected 11 fields, saw 12\\nSkipping line 86123: expected 11 fields, saw 12\\nSkipping line 87218: expected 11 fields, saw 12\\nSkipping line 87457: expected 11 fields, saw 12\\nSkipping line 87579: expected 11 fields, saw 12\\n'\n",
            "/usr/local/lib/python3.6/dist-packages/IPython/core/interactiveshell.py:2718: DtypeWarning: Columns (5,9) have mixed types.Specify dtype option on import or set low_memory=False.\n",
            "  interactivity=interactivity, compiler=compiler, result=result)\n"
          ],
          "name": "stderr"
        }
      ]
    },
    {
      "cell_type": "code",
      "metadata": {
        "id": "5eEtSpqNdZsE"
      },
      "source": [
        "df_comp['datetime'] = pd.DataFrame(pd.to_datetime(df_comp['datetime'], format= '%m/%d/%Y %H:%M', errors='coerce'))\n",
        "df_comp['year'], df_comp['hour'] = df_comp['datetime'].dt.year, df_comp['datetime'].dt.hour"
      ],
      "execution_count": null,
      "outputs": []
    },
    {
      "cell_type": "markdown",
      "metadata": {
        "id": "G1VAjKVNdJ5b"
      },
      "source": [
        "##1"
      ]
    },
    {
      "cell_type": "code",
      "metadata": {
        "id": "fonnON4JdL_I",
        "colab": {
          "base_uri": "https://localhost:8080/"
        },
        "outputId": "085d9fb5-d90f-4214-82ba-9f54d33f2bc0"
      },
      "source": [
        "def reports_num(in_country, in_year):\n",
        "  df_comp['datetime'] = pd.DataFrame(pd.to_datetime(df_comp['datetime'], format= '%m/%d/%Y %H:%M', errors='coerce'))\n",
        "  df_comp['year'], df_comp['month'] = df_comp['datetime'].dt.year, df_comp['datetime'].dt.month\n",
        "  df_result = df_comp[(df_comp['year'] == int(in_year)) & (df_comp['country'] == in_country)]\n",
        "  return df_result.shape[0]\n",
        "\n",
        "reports_num('us', 2000)"
      ],
      "execution_count": null,
      "outputs": [
        {
          "output_type": "execute_result",
          "data": {
            "text/plain": [
              "2343"
            ]
          },
          "metadata": {
            "tags": []
          },
          "execution_count": 54
        }
      ]
    },
    {
      "cell_type": "markdown",
      "metadata": {
        "id": "3yEp1eQ0dq-Q"
      },
      "source": [
        "##2"
      ]
    },
    {
      "cell_type": "code",
      "metadata": {
        "id": "hfGjKX6tdrxB",
        "colab": {
          "base_uri": "https://localhost:8080/"
        },
        "outputId": "173cff98-e385-41c2-abbd-28873f7abbe2"
      },
      "source": [
        "from collections import Counter\n",
        "year_count = Counter(df_comp['year'])\n",
        "year_count.most_common(1)[0][0]"
      ],
      "execution_count": null,
      "outputs": [
        {
          "output_type": "execute_result",
          "data": {
            "text/plain": [
              "2012.0"
            ]
          },
          "metadata": {
            "tags": []
          },
          "execution_count": 48
        }
      ]
    },
    {
      "cell_type": "markdown",
      "metadata": {
        "id": "UUddO-6HdvsJ"
      },
      "source": [
        "##3"
      ]
    },
    {
      "cell_type": "code",
      "metadata": {
        "id": "jPHlAijddwb5",
        "colab": {
          "base_uri": "https://localhost:8080/"
        },
        "outputId": "abd30bb5-f12d-43f6-b6c0-93387b1a4d62"
      },
      "source": [
        "hour_count = Counter(df_comp['hour'])\n",
        "hour_count.most_common(1)[0][0]"
      ],
      "execution_count": null,
      "outputs": [
        {
          "output_type": "execute_result",
          "data": {
            "text/plain": [
              "21.0"
            ]
          },
          "metadata": {
            "tags": []
          },
          "execution_count": 49
        }
      ]
    },
    {
      "cell_type": "markdown",
      "metadata": {
        "id": "S4gZ1geVdzP2"
      },
      "source": [
        "##4"
      ]
    },
    {
      "cell_type": "code",
      "metadata": {
        "id": "ztBsHZQcd03b",
        "colab": {
          "base_uri": "https://localhost:8080/",
          "height": 142
        },
        "outputId": "e2b5bd04-1603-48e5-82e9-22abbde58f46"
      },
      "source": [
        "def max_comment(text):\n",
        "  l = re.findall(r'(\\s*(\\w+\\s\\w{4,})\\s*\\b|\\b\\s*(\\w{4,}\\s\\w+)\\s*)|\\s*(\\w{2,}\\s\\w{3,})\\s*\\b|\\s*(\\w{3,}\\s\\w{2,})\\s*\\b', str(text))\n",
        "  return len(l)\n",
        "df_comp['max_6comment'] = df_comp['comments'].apply(lambda text: max_comment(text))\n",
        "pd.DataFrame(df_comp[df_comp['max_6comment'] == df_comp['max_6comment'].max()]['comments'])"
      ],
      "execution_count": null,
      "outputs": [
        {
          "output_type": "execute_result",
          "data": {
            "text/html": [
              "<div>\n",
              "<style scoped>\n",
              "    .dataframe tbody tr th:only-of-type {\n",
              "        vertical-align: middle;\n",
              "    }\n",
              "\n",
              "    .dataframe tbody tr th {\n",
              "        vertical-align: top;\n",
              "    }\n",
              "\n",
              "    .dataframe thead th {\n",
              "        text-align: right;\n",
              "    }\n",
              "</style>\n",
              "<table border=\"1\" class=\"dataframe\">\n",
              "  <thead>\n",
              "    <tr style=\"text-align: right;\">\n",
              "      <th></th>\n",
              "      <th>comments</th>\n",
              "    </tr>\n",
              "  </thead>\n",
              "  <tbody>\n",
              "    <tr>\n",
              "      <th>16254</th>\n",
              "      <td>What I and my wife seen that night on are way ...</td>\n",
              "    </tr>\n",
              "    <tr>\n",
              "      <th>57149</th>\n",
              "      <td>i was ridind to work. i seen a grate sun rise ...</td>\n",
              "    </tr>\n",
              "    <tr>\n",
              "      <th>71699</th>\n",
              "      <td>I would like to start by saying the date is a ...</td>\n",
              "    </tr>\n",
              "  </tbody>\n",
              "</table>\n",
              "</div>"
            ],
            "text/plain": [
              "                                                comments\n",
              "16254  What I and my wife seen that night on are way ...\n",
              "57149  i was ridind to work. i seen a grate sun rise ...\n",
              "71699  I would like to start by saying the date is a ..."
            ]
          },
          "metadata": {
            "tags": []
          },
          "execution_count": 50
        }
      ]
    },
    {
      "cell_type": "markdown",
      "metadata": {
        "id": "4wKxgAQ8d1am"
      },
      "source": [
        "##5"
      ]
    },
    {
      "cell_type": "code",
      "metadata": {
        "id": "Cgc-Vwnqd5CU",
        "colab": {
          "base_uri": "https://localhost:8080/",
          "height": 80
        },
        "outputId": "c95a1a39-88ac-40c8-b58d-e005d518c10a"
      },
      "source": [
        "def max_4digit(text):\n",
        "  l = re.findall(r'\\b\\s*(\\d{4})\\s*\\b', str(text))\n",
        "  return len(l)\n",
        "\n",
        "df_comp['comment_4digit'] = df_comp['comments'].apply(lambda text: max_4digit(text))\n",
        "pd.DataFrame(df_comp[df_comp['comment_4digit'] == df_comp['comment_4digit'].max()]['country'])\n"
      ],
      "execution_count": null,
      "outputs": [
        {
          "output_type": "execute_result",
          "data": {
            "text/html": [
              "<div>\n",
              "<style scoped>\n",
              "    .dataframe tbody tr th:only-of-type {\n",
              "        vertical-align: middle;\n",
              "    }\n",
              "\n",
              "    .dataframe tbody tr th {\n",
              "        vertical-align: top;\n",
              "    }\n",
              "\n",
              "    .dataframe thead th {\n",
              "        text-align: right;\n",
              "    }\n",
              "</style>\n",
              "<table border=\"1\" class=\"dataframe\">\n",
              "  <thead>\n",
              "    <tr style=\"text-align: right;\">\n",
              "      <th></th>\n",
              "      <th>country</th>\n",
              "    </tr>\n",
              "  </thead>\n",
              "  <tbody>\n",
              "    <tr>\n",
              "      <th>66553</th>\n",
              "      <td>us</td>\n",
              "    </tr>\n",
              "  </tbody>\n",
              "</table>\n",
              "</div>"
            ],
            "text/plain": [
              "      country\n",
              "66553      us"
            ]
          },
          "metadata": {
            "tags": []
          },
          "execution_count": 51
        }
      ]
    },
    {
      "cell_type": "markdown",
      "metadata": {
        "id": "wdXuQx2dd5bf"
      },
      "source": [
        "##6"
      ]
    },
    {
      "cell_type": "code",
      "metadata": {
        "id": "XlkjJmR1d6oV",
        "colab": {
          "base_uri": "https://localhost:8080/",
          "height": 606
        },
        "outputId": "552b1cb0-9321-4f81-97d9-96a21bf4a9bb"
      },
      "source": [
        "def pattern_x(text):\n",
        "  l = re.findall(r'\\b\\s*(\\w\\w\\d\\w)\\s*\\b', str(text))\n",
        "  return len(l)\n",
        "\n",
        "df_comp['pattern'] = df_comp['comments'].apply(lambda text: pattern_x(text))\n",
        "df_comp[df_comp['pattern'] > 0]"
      ],
      "execution_count": null,
      "outputs": [
        {
          "output_type": "execute_result",
          "data": {
            "text/html": [
              "<div>\n",
              "<style scoped>\n",
              "    .dataframe tbody tr th:only-of-type {\n",
              "        vertical-align: middle;\n",
              "    }\n",
              "\n",
              "    .dataframe tbody tr th {\n",
              "        vertical-align: top;\n",
              "    }\n",
              "\n",
              "    .dataframe thead th {\n",
              "        text-align: right;\n",
              "    }\n",
              "</style>\n",
              "<table border=\"1\" class=\"dataframe\">\n",
              "  <thead>\n",
              "    <tr style=\"text-align: right;\">\n",
              "      <th></th>\n",
              "      <th>datetime</th>\n",
              "      <th>city</th>\n",
              "      <th>state</th>\n",
              "      <th>country</th>\n",
              "      <th>shape</th>\n",
              "      <th>duration (seconds)</th>\n",
              "      <th>duration (hours/min)</th>\n",
              "      <th>comments</th>\n",
              "      <th>date posted</th>\n",
              "      <th>latitude</th>\n",
              "      <th>longitude</th>\n",
              "      <th>year</th>\n",
              "      <th>hour</th>\n",
              "      <th>month</th>\n",
              "      <th>max_6comment</th>\n",
              "      <th>comment_4digit</th>\n",
              "      <th>pattern</th>\n",
              "    </tr>\n",
              "  </thead>\n",
              "  <tbody>\n",
              "    <tr>\n",
              "      <th>0</th>\n",
              "      <td>1949-10-10 20:30:00</td>\n",
              "      <td>san marcos</td>\n",
              "      <td>tx</td>\n",
              "      <td>us</td>\n",
              "      <td>cylinder</td>\n",
              "      <td>2700</td>\n",
              "      <td>45 minutes</td>\n",
              "      <td>This event took place in early fall around 194...</td>\n",
              "      <td>4/27/2004</td>\n",
              "      <td>29.8830556</td>\n",
              "      <td>-97.941111</td>\n",
              "      <td>1949.0</td>\n",
              "      <td>20.0</td>\n",
              "      <td>10.0</td>\n",
              "      <td>11</td>\n",
              "      <td>1</td>\n",
              "      <td>1</td>\n",
              "    </tr>\n",
              "    <tr>\n",
              "      <th>1</th>\n",
              "      <td>1949-10-10 21:00:00</td>\n",
              "      <td>lackland afb</td>\n",
              "      <td>tx</td>\n",
              "      <td>NaN</td>\n",
              "      <td>light</td>\n",
              "      <td>7200</td>\n",
              "      <td>1-2 hrs</td>\n",
              "      <td>1949 Lackland AFB&amp;#44 TX.  Lights racing acros...</td>\n",
              "      <td>12/16/2005</td>\n",
              "      <td>29.38421</td>\n",
              "      <td>-98.581082</td>\n",
              "      <td>1949.0</td>\n",
              "      <td>21.0</td>\n",
              "      <td>10.0</td>\n",
              "      <td>6</td>\n",
              "      <td>1</td>\n",
              "      <td>1</td>\n",
              "    </tr>\n",
              "    <tr>\n",
              "      <th>4</th>\n",
              "      <td>1960-10-10 20:00:00</td>\n",
              "      <td>kaneohe</td>\n",
              "      <td>hi</td>\n",
              "      <td>us</td>\n",
              "      <td>light</td>\n",
              "      <td>900</td>\n",
              "      <td>15 minutes</td>\n",
              "      <td>AS a Marine 1st Lt. flying an FJ4B fighter/att...</td>\n",
              "      <td>1/22/2004</td>\n",
              "      <td>21.4180556</td>\n",
              "      <td>-157.803611</td>\n",
              "      <td>1960.0</td>\n",
              "      <td>20.0</td>\n",
              "      <td>10.0</td>\n",
              "      <td>9</td>\n",
              "      <td>0</td>\n",
              "      <td>1</td>\n",
              "    </tr>\n",
              "    <tr>\n",
              "      <th>8</th>\n",
              "      <td>1966-10-10 20:00:00</td>\n",
              "      <td>pell city</td>\n",
              "      <td>al</td>\n",
              "      <td>us</td>\n",
              "      <td>disk</td>\n",
              "      <td>180</td>\n",
              "      <td>3  minutes</td>\n",
              "      <td>Strobe Lighted disk shape object observed clos...</td>\n",
              "      <td>3/19/2009</td>\n",
              "      <td>33.5861111</td>\n",
              "      <td>-86.286111</td>\n",
              "      <td>1966.0</td>\n",
              "      <td>20.0</td>\n",
              "      <td>10.0</td>\n",
              "      <td>9</td>\n",
              "      <td>1</td>\n",
              "      <td>1</td>\n",
              "    </tr>\n",
              "    <tr>\n",
              "      <th>15</th>\n",
              "      <td>1972-10-10 19:00:00</td>\n",
              "      <td>harlan county</td>\n",
              "      <td>ky</td>\n",
              "      <td>us</td>\n",
              "      <td>circle</td>\n",
              "      <td>1200</td>\n",
              "      <td>20minutes</td>\n",
              "      <td>On october 10&amp;#44 1972 myself&amp;#44my 5yrs.daugh...</td>\n",
              "      <td>9/15/2005</td>\n",
              "      <td>36.8430556</td>\n",
              "      <td>-83.321944</td>\n",
              "      <td>1972.0</td>\n",
              "      <td>19.0</td>\n",
              "      <td>10.0</td>\n",
              "      <td>11</td>\n",
              "      <td>1</td>\n",
              "      <td>1</td>\n",
              "    </tr>\n",
              "    <tr>\n",
              "      <th>...</th>\n",
              "      <td>...</td>\n",
              "      <td>...</td>\n",
              "      <td>...</td>\n",
              "      <td>...</td>\n",
              "      <td>...</td>\n",
              "      <td>...</td>\n",
              "      <td>...</td>\n",
              "      <td>...</td>\n",
              "      <td>...</td>\n",
              "      <td>...</td>\n",
              "      <td>...</td>\n",
              "      <td>...</td>\n",
              "      <td>...</td>\n",
              "      <td>...</td>\n",
              "      <td>...</td>\n",
              "      <td>...</td>\n",
              "      <td>...</td>\n",
              "    </tr>\n",
              "    <tr>\n",
              "      <th>88562</th>\n",
              "      <td>2008-09-09 18:00:00</td>\n",
              "      <td>mokena</td>\n",
              "      <td>il</td>\n",
              "      <td>us</td>\n",
              "      <td>oval</td>\n",
              "      <td>0</td>\n",
              "      <td>village hall</td>\n",
              "      <td>9/9/2008 ufo over a small body of water new le...</td>\n",
              "      <td>10/31/2008</td>\n",
              "      <td>41.5261</td>\n",
              "      <td>-87.889167</td>\n",
              "      <td>2008.0</td>\n",
              "      <td>18.0</td>\n",
              "      <td>9.0</td>\n",
              "      <td>8</td>\n",
              "      <td>1</td>\n",
              "      <td>1</td>\n",
              "    </tr>\n",
              "    <tr>\n",
              "      <th>88577</th>\n",
              "      <td>2009-09-09 20:10:00</td>\n",
              "      <td>haverhill</td>\n",
              "      <td>ma</td>\n",
              "      <td>us</td>\n",
              "      <td>light</td>\n",
              "      <td>120</td>\n",
              "      <td>approx 2 min</td>\n",
              "      <td>On 09/09/2009 at 20:00 ET I notice what appear...</td>\n",
              "      <td>12/12/2009</td>\n",
              "      <td>42.7761</td>\n",
              "      <td>-71.077778</td>\n",
              "      <td>2009.0</td>\n",
              "      <td>20.0</td>\n",
              "      <td>9.0</td>\n",
              "      <td>11</td>\n",
              "      <td>1</td>\n",
              "      <td>1</td>\n",
              "    </tr>\n",
              "    <tr>\n",
              "      <th>88602</th>\n",
              "      <td>2010-09-09 20:30:00</td>\n",
              "      <td>tinley park</td>\n",
              "      <td>il</td>\n",
              "      <td>us</td>\n",
              "      <td>light</td>\n",
              "      <td>300</td>\n",
              "      <td>5 mins</td>\n",
              "      <td>I was outside BBQ and as always I tend to look...</td>\n",
              "      <td>11/21/2010</td>\n",
              "      <td>41.5733</td>\n",
              "      <td>-87.784444</td>\n",
              "      <td>2010.0</td>\n",
              "      <td>20.0</td>\n",
              "      <td>9.0</td>\n",
              "      <td>13</td>\n",
              "      <td>1</td>\n",
              "      <td>1</td>\n",
              "    </tr>\n",
              "    <tr>\n",
              "      <th>88624</th>\n",
              "      <td>2011-09-09 23:00:00</td>\n",
              "      <td>kenmore</td>\n",
              "      <td>wa</td>\n",
              "      <td>us</td>\n",
              "      <td>changing</td>\n",
              "      <td>5400</td>\n",
              "      <td>1.5 hours</td>\n",
              "      <td>UFO changing colors&amp;#44 shapes and pulsating -...</td>\n",
              "      <td>10/10/2011</td>\n",
              "      <td>47.7575</td>\n",
              "      <td>-122.242778</td>\n",
              "      <td>2011.0</td>\n",
              "      <td>23.0</td>\n",
              "      <td>9.0</td>\n",
              "      <td>5</td>\n",
              "      <td>1</td>\n",
              "      <td>1</td>\n",
              "    </tr>\n",
              "    <tr>\n",
              "      <th>88636</th>\n",
              "      <td>2012-09-09 14:00:00</td>\n",
              "      <td>pictou (canada)</td>\n",
              "      <td>ns</td>\n",
              "      <td>ca</td>\n",
              "      <td>disk</td>\n",
              "      <td>600</td>\n",
              "      <td>10 minutes</td>\n",
              "      <td>Spotted a object over the town&amp;#39s business d...</td>\n",
              "      <td>9/24/2012</td>\n",
              "      <td>45.6667</td>\n",
              "      <td>-62.700000</td>\n",
              "      <td>2012.0</td>\n",
              "      <td>14.0</td>\n",
              "      <td>9.0</td>\n",
              "      <td>12</td>\n",
              "      <td>1</td>\n",
              "      <td>1</td>\n",
              "    </tr>\n",
              "  </tbody>\n",
              "</table>\n",
              "<p>4557 rows × 17 columns</p>\n",
              "</div>"
            ],
            "text/plain": [
              "                 datetime             city  ... comment_4digit pattern\n",
              "0     1949-10-10 20:30:00       san marcos  ...              1       1\n",
              "1     1949-10-10 21:00:00     lackland afb  ...              1       1\n",
              "4     1960-10-10 20:00:00          kaneohe  ...              0       1\n",
              "8     1966-10-10 20:00:00        pell city  ...              1       1\n",
              "15    1972-10-10 19:00:00    harlan county  ...              1       1\n",
              "...                   ...              ...  ...            ...     ...\n",
              "88562 2008-09-09 18:00:00           mokena  ...              1       1\n",
              "88577 2009-09-09 20:10:00        haverhill  ...              1       1\n",
              "88602 2010-09-09 20:30:00      tinley park  ...              1       1\n",
              "88624 2011-09-09 23:00:00          kenmore  ...              1       1\n",
              "88636 2012-09-09 14:00:00  pictou (canada)  ...              1       1\n",
              "\n",
              "[4557 rows x 17 columns]"
            ]
          },
          "metadata": {
            "tags": []
          },
          "execution_count": 52
        }
      ]
    }
  ]
}