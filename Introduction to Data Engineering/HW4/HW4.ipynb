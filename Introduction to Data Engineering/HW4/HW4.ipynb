{
  "nbformat": 4,
  "nbformat_minor": 0,
  "metadata": {
    "colab": {
      "name": "Copy of 313354763_208421271.ipynb",
      "provenance": [],
      "collapsed_sections": []
    },
    "kernelspec": {
      "display_name": "Python 3",
      "name": "python3"
    }
  },
  "cells": [
    {
      "cell_type": "markdown",
      "metadata": {
        "id": "e8ttWGcgkdn2"
      },
      "source": [
        "## Requirements"
      ]
    },
    {
      "cell_type": "code",
      "metadata": {
        "colab": {
          "base_uri": "https://localhost:8080/"
        },
        "id": "XgxX9hZYbpG5",
        "outputId": "2573eddf-0490-48f5-9aa0-3ed781ba2230"
      },
      "source": [
        "!mkdir /root/.kaggle/\n",
        "!pip install pandas\n",
        "import pandas as pd\n",
        "import numpy as np\n",
        "import os\n",
        "import json\n",
        "\n",
        "\n",
        "# Installing the Kaggle package\n",
        "!pip install kaggle \n",
        "\n",
        "#Important Note: complete this with your own key - after running this for the first time remmember to **remove** your API_KEY\n",
        "api_token = {\"username\":\"something\",\"key\":\"keykeykey\"}\n",
        "\n",
        "# creating kaggle.json file with the personal API-Key details \n",
        "# You can also put this file on your Google Drive\n",
        "with open('/root/.kaggle/kaggle.json', 'w') as file:\n",
        "  json.dump(api_token, file)\n",
        "!chmod 600 /root/.kaggle/kaggle.json"
      ],
      "execution_count": null,
      "outputs": [
        {
          "output_type": "stream",
          "text": [
            "mkdir: cannot create directory ‘/root/.kaggle/’: File exists\n",
            "Requirement already satisfied: pandas in /usr/local/lib/python3.6/dist-packages (1.1.4)\n",
            "Requirement already satisfied: pytz>=2017.2 in /usr/local/lib/python3.6/dist-packages (from pandas) (2018.9)\n",
            "Requirement already satisfied: python-dateutil>=2.7.3 in /usr/local/lib/python3.6/dist-packages (from pandas) (2.8.1)\n",
            "Requirement already satisfied: numpy>=1.15.4 in /usr/local/lib/python3.6/dist-packages (from pandas) (1.18.5)\n",
            "Requirement already satisfied: six>=1.5 in /usr/local/lib/python3.6/dist-packages (from python-dateutil>=2.7.3->pandas) (1.15.0)\n",
            "Requirement already satisfied: kaggle in /usr/local/lib/python3.6/dist-packages (1.5.9)\n",
            "Requirement already satisfied: requests in /usr/local/lib/python3.6/dist-packages (from kaggle) (2.23.0)\n",
            "Requirement already satisfied: python-slugify in /usr/local/lib/python3.6/dist-packages (from kaggle) (4.0.1)\n",
            "Requirement already satisfied: slugify in /usr/local/lib/python3.6/dist-packages (from kaggle) (0.0.1)\n",
            "Requirement already satisfied: urllib3 in /usr/local/lib/python3.6/dist-packages (from kaggle) (1.24.3)\n",
            "Requirement already satisfied: six>=1.10 in /usr/local/lib/python3.6/dist-packages (from kaggle) (1.15.0)\n",
            "Requirement already satisfied: python-dateutil in /usr/local/lib/python3.6/dist-packages (from kaggle) (2.8.1)\n",
            "Requirement already satisfied: tqdm in /usr/local/lib/python3.6/dist-packages (from kaggle) (4.41.1)\n",
            "Requirement already satisfied: certifi in /usr/local/lib/python3.6/dist-packages (from kaggle) (2020.6.20)\n",
            "Requirement already satisfied: chardet<4,>=3.0.2 in /usr/local/lib/python3.6/dist-packages (from requests->kaggle) (3.0.4)\n",
            "Requirement already satisfied: idna<3,>=2.5 in /usr/local/lib/python3.6/dist-packages (from requests->kaggle) (2.10)\n",
            "Requirement already satisfied: text-unidecode>=1.3 in /usr/local/lib/python3.6/dist-packages (from python-slugify->kaggle) (1.3)\n"
          ],
          "name": "stdout"
        }
      ]
    },
    {
      "cell_type": "markdown",
      "metadata": {
        "id": "kbA_9720ky1z"
      },
      "source": [
        "## Q1"
      ]
    },
    {
      "cell_type": "code",
      "metadata": {
        "colab": {
          "base_uri": "https://localhost:8080/"
        },
        "id": "3gU2rlY5lU95",
        "outputId": "415eb7d0-50a0-4fbe-a051-db2b687f9972"
      },
      "source": [
        "# download the dataset from Kaggle and unzip it\n",
        "!kaggle datasets download -dcsanhueza/the-marvel-universe-social-network -p ./datasets/marvel/\n",
        "!unzip ./datasets/marvel/*.zip  -d ./datasets/marvel/\n",
        "\n",
        "edges_df = pd.read_csv('/content/datasets/marvel/edges.csv')\n",
        "net_df = pd.read_csv('/content/datasets/marvel/hero-network.csv')\n",
        "nodes_df = pd.read_csv('/content/datasets/marvel/nodes.csv')"
      ],
      "execution_count": null,
      "outputs": [
        {
          "output_type": "stream",
          "text": [
            "the-marvel-universe-social-network.zip: Skipping, found more recently modified local copy (use --force to force download)\n",
            "Archive:  ./datasets/marvel/the-marvel-universe-social-network.zip\n",
            "replace ./datasets/marvel/edges.csv? [y]es, [n]o, [A]ll, [N]one, [r]ename: A\n",
            "  inflating: ./datasets/marvel/edges.csv  \n",
            "  inflating: ./datasets/marvel/hero-network.csv  \n",
            "  inflating: ./datasets/marvel/nodes.csv  \n"
          ],
          "name": "stdout"
        }
      ]
    },
    {
      "cell_type": "markdown",
      "metadata": {
        "id": "Fe3LLKE5SOcj"
      },
      "source": [
        "### 1"
      ]
    },
    {
      "cell_type": "code",
      "metadata": {
        "colab": {
          "base_uri": "https://localhost:8080/"
        },
        "id": "qgqsP-XfQGtS",
        "outputId": "2b8a1a08-cb1c-4b3e-a0b9-28910a4f557d"
      },
      "source": [
        "net_df['hero1'], net_df['hero2'] = (net_df['hero1'].str.strip(), net_df['hero2'].str.strip())\n",
        "nodes_df['node'] = nodes_df['node'].str.strip()\n",
        "\n",
        "hero_nodes = nodes_df[nodes_df['type'] == 'hero']\n",
        "hero_nodes = list(set(hero_nodes['node'].values))\n",
        "\n",
        "# no self loops\n",
        "net_df = net_df[net_df['hero1'] != net_df['hero2']]\n",
        "net_df = net_df.drop_duplicates(['hero1','hero2'])\n",
        "\n",
        "friendly = set(net_df['hero1']) | set(net_df['hero2'])\n",
        "print('\\n\\t1. The number of heroes without friends is:', len(hero_nodes) - len(friendly))"
      ],
      "execution_count": null,
      "outputs": [
        {
          "output_type": "stream",
          "text": [
            "\n",
            "\t1. The number of heroes without friends is: 18\n"
          ],
          "name": "stdout"
        }
      ]
    },
    {
      "cell_type": "markdown",
      "metadata": {
        "id": "MbOl3QzgSHix"
      },
      "source": [
        "## 2"
      ]
    },
    {
      "cell_type": "code",
      "metadata": {
        "colab": {
          "base_uri": "https://localhost:8080/"
        },
        "id": "rZdG5U1koIgP",
        "outputId": "aba66c85-3b32-4dd7-f279-c332bb023cb4"
      },
      "source": [
        "!pip install python-Levenshtein\n"
      ],
      "execution_count": null,
      "outputs": [
        {
          "output_type": "stream",
          "text": [
            "Collecting python-Levenshtein\n",
            "\u001b[?25l  Downloading https://files.pythonhosted.org/packages/42/a9/d1785c85ebf9b7dfacd08938dd028209c34a0ea3b1bcdb895208bd40a67d/python-Levenshtein-0.12.0.tar.gz (48kB)\n",
            "\r\u001b[K     |██████▊                         | 10kB 14.3MB/s eta 0:00:01\r\u001b[K     |█████████████▌                  | 20kB 11.8MB/s eta 0:00:01\r\u001b[K     |████████████████████▏           | 30kB 9.8MB/s eta 0:00:01\r\u001b[K     |███████████████████████████     | 40kB 8.0MB/s eta 0:00:01\r\u001b[K     |████████████████████████████████| 51kB 1.9MB/s \n",
            "\u001b[?25hRequirement already satisfied: setuptools in /usr/local/lib/python3.6/dist-packages (from python-Levenshtein) (50.3.2)\n",
            "Building wheels for collected packages: python-Levenshtein\n",
            "  Building wheel for python-Levenshtein (setup.py) ... \u001b[?25l\u001b[?25hdone\n",
            "  Created wheel for python-Levenshtein: filename=python_Levenshtein-0.12.0-cp36-cp36m-linux_x86_64.whl size=144791 sha256=602c96c6bba4612f6830a6434a9a6ce714419b47f3e9479b04710ee4c43419ae\n",
            "  Stored in directory: /root/.cache/pip/wheels/de/c2/93/660fd5f7559049268ad2dc6d81c4e39e9e36518766eaf7e342\n",
            "Successfully built python-Levenshtein\n",
            "Installing collected packages: python-Levenshtein\n",
            "Successfully installed python-Levenshtein-0.12.0\n"
          ],
          "name": "stdout"
        }
      ]
    },
    {
      "cell_type": "code",
      "metadata": {
        "colab": {
          "base_uri": "https://localhost:8080/"
        },
        "id": "ugK5W3v8O8aQ",
        "outputId": "4762b2fd-5c5f-4bb7-b55a-5183f69a2cb0"
      },
      "source": [
        "import Levenshtein as lv\n",
        "\n",
        "\n",
        "real_spidy = 'SPIDER-MAN/PETER PAR'\n",
        "hero2 = 'CAPTAIN AMERICA'\n",
        "\n",
        "\n",
        "almost_spidy = [i for i in all_heros.union(hero_nodes) if lv.distance(real_spidy.lower().split('/')[0], i.lower().split('/')[0]) < 2]\n",
        "\n",
        "captain_friends = net_df[(net_df['hero1'] == hero2) | (net_df['hero2'] == hero2)]\n",
        "spider_friends = net_df[(net_df['hero1'].isin(almost_spidy)) | (net_df['hero2'].isin(almost_spidy))]\n",
        "\n",
        "captain_friends = pd.DataFrame(pd.unique(captain_friends[['hero1', 'hero2']].values.ravel('K'))).rename(columns={0:'friends'})\n",
        "spider_friends = pd.DataFrame(pd.unique(spider_friends[['hero1', 'hero2']].values.ravel('K'))).rename(columns={0:'friends'})\n",
        "\n",
        "captain_friends = pd.DataFrame(captain_friends[(captain_friends['friends'] != hero2) & (~captain_friends['friends'].isin(almost_spidy))])\n",
        "spider_friends = pd.DataFrame(spider_friends[(spider_friends['friends'] != hero2) & (~spider_friends['friends'].isin(almost_spidy))])\n",
        "\n",
        "c_friends = []\n",
        "for i in captain_friends['friends']:\n",
        "  for j in spider_friends['friends']:\n",
        "    if i == j:\n",
        "      c_friends.append(i)\n",
        "print(len(c_friends))"
      ],
      "execution_count": null,
      "outputs": [
        {
          "output_type": "stream",
          "text": [
            "921\n"
          ],
          "name": "stdout"
        }
      ]
    },
    {
      "cell_type": "markdown",
      "metadata": {
        "id": "MaBIcurrSDyu"
      },
      "source": [
        "## 3"
      ]
    },
    {
      "cell_type": "code",
      "metadata": {
        "colab": {
          "base_uri": "https://localhost:8080/"
        },
        "id": "-sR67ybVC6Id",
        "outputId": "ce51a395-a337-4e9c-b0ec-86946f731f04"
      },
      "source": [
        "name = [hero_nodes[0], list(hero_nodes)[0]]\n",
        "for i in hero_nodes:\n",
        "  if len(i) < len(name[0]):\n",
        "    name[0] = i\n",
        "  \n",
        "  if len(i) > len(name[1]):\n",
        "    name[1] = i\n",
        "\n",
        "shortests = list(filter(lambda x: len(x) == len(name[0]), hero_nodes))\n",
        "longests = list(filter(lambda x: len(x) == len(name[1]), hero_nodes))\n",
        "\n",
        "print('Shortest names:', shortests, '\\nLongest names:', longests)"
      ],
      "execution_count": null,
      "outputs": [
        {
          "output_type": "stream",
          "text": [
            "Shortest names: ['M', 'T', 'Q', 'A', 'P'] \n",
            "Longest names: ['SPIDER-MAN/PETER PARKERKER']\n"
          ],
          "name": "stdout"
        }
      ]
    },
    {
      "cell_type": "markdown",
      "metadata": {
        "id": "gzcTPAFxSRU0"
      },
      "source": [
        "## 4"
      ]
    },
    {
      "cell_type": "code",
      "metadata": {
        "colab": {
          "base_uri": "https://localhost:8080/"
        },
        "id": "jMILOxoTGej5",
        "outputId": "aa748fab-d29f-4022-95f4-844d7ab8dc54"
      },
      "source": [
        "def not_spidey_friend(hero):\n",
        "  spidey_tot = set(net_df[net_df['hero1'].isin(almost_spidy)]['hero2'].values) | set(net_df[net_df['hero2'].isin(almost_spidy)]['hero1'].values)\n",
        "\n",
        "  hero_tot = set(net_df[net_df['hero2'] == hero]['hero1'].values) | set(net_df[net_df['hero1'] == hero]['hero2'].values)\n",
        "  \n",
        "\n",
        "  if hero in spidey_tot:\n",
        "    spidey_tot.remove(hero)\n",
        "    \n",
        "  for i in almost_spidy:\n",
        "    if i in hero_tot:\n",
        "      hero_tot.remove(i)\n",
        "  \n",
        "  # print(len(spidey_tot))\n",
        "  return len(list(filter(lambda n: n not in spidey_tot, hero_tot)))\n",
        "\n",
        "not_spidey_friend('IRON MAN/TONY STARK')\n"
      ],
      "execution_count": null,
      "outputs": [
        {
          "output_type": "execute_result",
          "data": {
            "text/plain": [
              "735"
            ]
          },
          "metadata": {
            "tags": []
          },
          "execution_count": 119
        }
      ]
    },
    {
      "cell_type": "markdown",
      "metadata": {
        "id": "TEYW184xSUEy"
      },
      "source": [
        "## 5"
      ]
    },
    {
      "cell_type": "code",
      "metadata": {
        "colab": {
          "base_uri": "https://localhost:8080/"
        },
        "id": "wxuqfby5YmMG",
        "outputId": "c421a4b7-e0c1-4981-dacf-1b121bda6b08"
      },
      "source": [
        "srch = 'CAPTAIN AMERICA'\n",
        "\n",
        "temp = net_df[net_df['hero1'] == srch]['hero2'].values\n",
        "lst = list(set(np.append(temp, net_df[net_df['hero2'] == srch]['hero1'].values)))\n",
        "\n",
        "friends = []\n",
        "\n",
        "for frnd in lst:\n",
        "  temp = net_df[net_df['hero1'] == frnd]['hero2'].values\n",
        "  fr_lst = list(set(np.append(temp, net_df[net_df['hero2'] == frnd]['hero1'].values)))\n",
        "  friends = list(set(np.append(friends, fr_lst)))\n",
        "\n",
        "print(len(friends))"
      ],
      "execution_count": null,
      "outputs": [
        {
          "output_type": "stream",
          "text": [
            "6364\n"
          ],
          "name": "stdout"
        }
      ]
    },
    {
      "cell_type": "markdown",
      "metadata": {
        "id": "op9W8T-WXoGp"
      },
      "source": [
        "# **Q2**"
      ]
    },
    {
      "cell_type": "code",
      "metadata": {
        "colab": {
          "base_uri": "https://localhost:8080/"
        },
        "id": "NJksk8UfSVw4",
        "outputId": "0f1a0df1-ad00-47ba-e449-61ec503bf493"
      },
      "source": [
        "!kaggle datasets download usgs/earthquake-database  -p ./datasets/earthquake/\n",
        "!unzip ./datasets/earthquake/*.zip  -d ./datasets/earthquake\n",
        "earthquakes_df = pd.read_csv('/content/datasets/earthquake/database.csv')\n"
      ],
      "execution_count": null,
      "outputs": [
        {
          "output_type": "stream",
          "text": [
            "earthquake-database.zip: Skipping, found more recently modified local copy (use --force to force download)\n",
            "Archive:  ./datasets/earthquake/earthquake-database.zip\n",
            "replace ./datasets/earthquake/database.csv? [y]es, [n]o, [A]ll, [N]one, [r]ename: N\n"
          ],
          "name": "stdout"
        }
      ]
    },
    {
      "cell_type": "markdown",
      "metadata": {
        "id": "AycnDRrFXvEO"
      },
      "source": [
        "## 1"
      ]
    },
    {
      "cell_type": "code",
      "metadata": {
        "colab": {
          "base_uri": "https://localhost:8080/",
          "height": 165
        },
        "id": "4QwPA8r0XfEC",
        "outputId": "af7a4086-9118-47dc-8ca1-df6755644b84"
      },
      "source": [
        "earthquakes_df[earthquakes_df['Magnitude'] == earthquakes_df['Magnitude'].max()]"
      ],
      "execution_count": null,
      "outputs": [
        {
          "output_type": "execute_result",
          "data": {
            "text/html": [
              "<div>\n",
              "<style scoped>\n",
              "    .dataframe tbody tr th:only-of-type {\n",
              "        vertical-align: middle;\n",
              "    }\n",
              "\n",
              "    .dataframe tbody tr th {\n",
              "        vertical-align: top;\n",
              "    }\n",
              "\n",
              "    .dataframe thead th {\n",
              "        text-align: right;\n",
              "    }\n",
              "</style>\n",
              "<table border=\"1\" class=\"dataframe\">\n",
              "  <thead>\n",
              "    <tr style=\"text-align: right;\">\n",
              "      <th></th>\n",
              "      <th>Date</th>\n",
              "      <th>Time</th>\n",
              "      <th>Latitude</th>\n",
              "      <th>Longitude</th>\n",
              "      <th>Type</th>\n",
              "      <th>Depth</th>\n",
              "      <th>Depth Error</th>\n",
              "      <th>Depth Seismic Stations</th>\n",
              "      <th>Magnitude</th>\n",
              "      <th>Magnitude Type</th>\n",
              "      <th>Magnitude Error</th>\n",
              "      <th>Magnitude Seismic Stations</th>\n",
              "      <th>Azimuthal Gap</th>\n",
              "      <th>Horizontal Distance</th>\n",
              "      <th>Horizontal Error</th>\n",
              "      <th>Root Mean Square</th>\n",
              "      <th>ID</th>\n",
              "      <th>Source</th>\n",
              "      <th>Location Source</th>\n",
              "      <th>Magnitude Source</th>\n",
              "      <th>Status</th>\n",
              "    </tr>\n",
              "  </thead>\n",
              "  <tbody>\n",
              "    <tr>\n",
              "      <th>17083</th>\n",
              "      <td>12/26/2004</td>\n",
              "      <td>00:58:53</td>\n",
              "      <td>3.295</td>\n",
              "      <td>95.982</td>\n",
              "      <td>Earthquake</td>\n",
              "      <td>30.0</td>\n",
              "      <td>NaN</td>\n",
              "      <td>601.0</td>\n",
              "      <td>9.1</td>\n",
              "      <td>MW</td>\n",
              "      <td>NaN</td>\n",
              "      <td>NaN</td>\n",
              "      <td>22.0</td>\n",
              "      <td>NaN</td>\n",
              "      <td>NaN</td>\n",
              "      <td>1.17</td>\n",
              "      <td>OFFICIAL20041226005853450_30</td>\n",
              "      <td>OFFICIAL</td>\n",
              "      <td>US</td>\n",
              "      <td>OFFICIAL</td>\n",
              "      <td>Reviewed</td>\n",
              "    </tr>\n",
              "    <tr>\n",
              "      <th>20501</th>\n",
              "      <td>03/11/2011</td>\n",
              "      <td>05:46:24</td>\n",
              "      <td>38.297</td>\n",
              "      <td>142.373</td>\n",
              "      <td>Earthquake</td>\n",
              "      <td>29.0</td>\n",
              "      <td>NaN</td>\n",
              "      <td>541.0</td>\n",
              "      <td>9.1</td>\n",
              "      <td>MWW</td>\n",
              "      <td>NaN</td>\n",
              "      <td>NaN</td>\n",
              "      <td>9.5</td>\n",
              "      <td>NaN</td>\n",
              "      <td>NaN</td>\n",
              "      <td>1.16</td>\n",
              "      <td>OFFICIAL20110311054624120_30</td>\n",
              "      <td>OFFICIAL</td>\n",
              "      <td>US</td>\n",
              "      <td>OFFICIAL</td>\n",
              "      <td>Reviewed</td>\n",
              "    </tr>\n",
              "  </tbody>\n",
              "</table>\n",
              "</div>"
            ],
            "text/plain": [
              "             Date      Time  ...  Magnitude Source    Status\n",
              "17083  12/26/2004  00:58:53  ...          OFFICIAL  Reviewed\n",
              "20501  03/11/2011  05:46:24  ...          OFFICIAL  Reviewed\n",
              "\n",
              "[2 rows x 21 columns]"
            ]
          },
          "metadata": {
            "tags": []
          },
          "execution_count": 11
        }
      ]
    },
    {
      "cell_type": "markdown",
      "metadata": {
        "id": "bvJelhpCbfl_"
      },
      "source": [
        "## 2"
      ]
    },
    {
      "cell_type": "code",
      "metadata": {
        "colab": {
          "base_uri": "https://localhost:8080/"
        },
        "id": "h0jyAxpiiW8b",
        "outputId": "fd975509-f54f-43cd-f7bd-b72c08bce8ef"
      },
      "source": [
        "nuclear_explosion = earthquakes_df[earthquakes_df['Type'] == 'Nuclear Explosion']\n",
        "nuclear_explosion['Magnitude'].mean()"
      ],
      "execution_count": null,
      "outputs": [
        {
          "output_type": "execute_result",
          "data": {
            "text/plain": [
              "5.850685714285718"
            ]
          },
          "metadata": {
            "tags": []
          },
          "execution_count": 177
        }
      ]
    },
    {
      "cell_type": "markdown",
      "metadata": {
        "id": "96C10vhIbgdz"
      },
      "source": [
        "## 3"
      ]
    },
    {
      "cell_type": "code",
      "metadata": {
        "colab": {
          "base_uri": "https://localhost:8080/",
          "height": 171
        },
        "id": "JAYTPaRViXae",
        "outputId": "23d7eef7-89fe-4de8-90a8-597c8b02ae08"
      },
      "source": [
        "from pandas.core.common import SettingWithCopyWarning\n",
        "\n",
        "warnings.filterwarnings(\"ignore\", category=SettingWithCopyWarning)\n",
        "\n",
        "earthquakes_df['Date'] = earthquakes_df['Date'].str[-4:]\n",
        "earthquakes_up_6 = earthquakes_df[earthquakes_df['Magnitude'] > 6]\n",
        "earthquakes_up_6 = pd.DataFrame(earthquakes_up_6.groupby(earthquakes_up_6['Date'])['Date'].count())\n",
        "earthquakes_up_9 = earthquakes_df[earthquakes_df['Magnitude'] > 9]\n",
        "earthquakes_up_9 = pd.DataFrame(earthquakes_up_9.groupby(earthquakes_up_9['Date'])['Date'].count())\n",
        "\n",
        "\n",
        "mx6 = earthquakes_up_6[earthquakes_up_6['Date'] == earthquakes_up_6['Date'].max()]\n",
        "mx6['above'] = 6\n",
        "mx9 = earthquakes_up_9[earthquakes_up_9['Date'] == earthquakes_up_9['Date'].max()]\n",
        "mx9['above'] = 9\n",
        "\n",
        "total = pd.DataFrame(pd.concat([mx6,mx9]))\n",
        "total"
      ],
      "execution_count": null,
      "outputs": [
        {
          "output_type": "execute_result",
          "data": {
            "text/html": [
              "<div>\n",
              "<style scoped>\n",
              "    .dataframe tbody tr th:only-of-type {\n",
              "        vertical-align: middle;\n",
              "    }\n",
              "\n",
              "    .dataframe tbody tr th {\n",
              "        vertical-align: top;\n",
              "    }\n",
              "\n",
              "    .dataframe thead th {\n",
              "        text-align: right;\n",
              "    }\n",
              "</style>\n",
              "<table border=\"1\" class=\"dataframe\">\n",
              "  <thead>\n",
              "    <tr style=\"text-align: right;\">\n",
              "      <th></th>\n",
              "      <th>Date</th>\n",
              "      <th>above</th>\n",
              "    </tr>\n",
              "    <tr>\n",
              "      <th>Date</th>\n",
              "      <th></th>\n",
              "      <th></th>\n",
              "    </tr>\n",
              "  </thead>\n",
              "  <tbody>\n",
              "    <tr>\n",
              "      <th>2011</th>\n",
              "      <td>163</td>\n",
              "      <td>6</td>\n",
              "    </tr>\n",
              "    <tr>\n",
              "      <th>2004</th>\n",
              "      <td>1</td>\n",
              "      <td>9</td>\n",
              "    </tr>\n",
              "    <tr>\n",
              "      <th>2011</th>\n",
              "      <td>1</td>\n",
              "      <td>9</td>\n",
              "    </tr>\n",
              "  </tbody>\n",
              "</table>\n",
              "</div>"
            ],
            "text/plain": [
              "      Date  above\n",
              "Date             \n",
              "2011   163      6\n",
              "2004     1      9\n",
              "2011     1      9"
            ]
          },
          "metadata": {
            "tags": []
          },
          "execution_count": 233
        }
      ]
    },
    {
      "cell_type": "markdown",
      "metadata": {
        "id": "12ntJkp5bgNT"
      },
      "source": [
        "## 4"
      ]
    },
    {
      "cell_type": "code",
      "metadata": {
        "colab": {
          "base_uri": "https://localhost:8080/",
          "height": 110
        },
        "id": "oLQvcKFJiX26",
        "outputId": "4ada3338-146c-4d38-dd76-66f3e02fcea0"
      },
      "source": [
        "earthquakes_df['Time'] = earthquakes_df['Time'].str[:2]\n",
        "hour_count = pd.DataFrame(earthquakes_df.groupby(['Time'])['Time'].count())\n",
        "hour_count[hour_count['Time'] == hour_count['Time'].max()]"
      ],
      "execution_count": null,
      "outputs": [
        {
          "output_type": "execute_result",
          "data": {
            "text/html": [
              "<div>\n",
              "<style scoped>\n",
              "    .dataframe tbody tr th:only-of-type {\n",
              "        vertical-align: middle;\n",
              "    }\n",
              "\n",
              "    .dataframe tbody tr th {\n",
              "        vertical-align: top;\n",
              "    }\n",
              "\n",
              "    .dataframe thead th {\n",
              "        text-align: right;\n",
              "    }\n",
              "</style>\n",
              "<table border=\"1\" class=\"dataframe\">\n",
              "  <thead>\n",
              "    <tr style=\"text-align: right;\">\n",
              "      <th></th>\n",
              "      <th>Time</th>\n",
              "    </tr>\n",
              "    <tr>\n",
              "      <th>Time</th>\n",
              "      <th></th>\n",
              "    </tr>\n",
              "  </thead>\n",
              "  <tbody>\n",
              "    <tr>\n",
              "      <th>13</th>\n",
              "      <td>1058</td>\n",
              "    </tr>\n",
              "  </tbody>\n",
              "</table>\n",
              "</div>"
            ],
            "text/plain": [
              "      Time\n",
              "Time      \n",
              "13    1058"
            ]
          },
          "metadata": {
            "tags": []
          },
          "execution_count": 13
        }
      ]
    },
    {
      "cell_type": "markdown",
      "metadata": {
        "id": "p7OsLuzTbKWe"
      },
      "source": [
        "# **Q3**"
      ]
    },
    {
      "cell_type": "code",
      "metadata": {
        "colab": {
          "base_uri": "https://localhost:8080/"
        },
        "id": "KROryDonbbnN",
        "outputId": "6fe8abbc-f232-4215-d469-e1036c818190"
      },
      "source": [
        "!kaggle datasets download -d karangadiya/fifa19 -p ./datasets/fifa19/\n",
        "!unzip ./datasets/fifa19/*.zip -d ./datasets/fifa19/\n",
        "fifa_df = pd.read_csv('/content/datasets/fifa19/data.csv')"
      ],
      "execution_count": null,
      "outputs": [
        {
          "output_type": "stream",
          "text": [
            "Downloading fifa19.zip to ./datasets/fifa19\n",
            "\r  0% 0.00/2.18M [00:00<?, ?B/s]\n",
            "\r100% 2.18M/2.18M [00:00<00:00, 61.2MB/s]\n",
            "Archive:  ./datasets/fifa19/fifa19.zip\n",
            "  inflating: ./datasets/fifa19/data.csv  \n"
          ],
          "name": "stdout"
        }
      ]
    },
    {
      "cell_type": "markdown",
      "metadata": {
        "id": "_EAZthnsgEyx"
      },
      "source": [
        "## 1"
      ]
    },
    {
      "cell_type": "code",
      "metadata": {
        "id": "3jF0nMJIdA0m"
      },
      "source": [
        "def highest_strength(country):\n",
        "  pl_df = fifa_df[fifa_df['Nationality'] == country.capitalize()]\n",
        "  return  pl_df[pl_df['Strength'] == pl_df['Strength'].max()]"
      ],
      "execution_count": null,
      "outputs": []
    },
    {
      "cell_type": "code",
      "metadata": {
        "colab": {
          "base_uri": "https://localhost:8080/",
          "height": 325
        },
        "id": "Y2L_PmyZfZ2-",
        "outputId": "f55b0d03-5633-483b-bfc3-e6d89090e892"
      },
      "source": [
        "highest_strength('france')"
      ],
      "execution_count": null,
      "outputs": [
        {
          "output_type": "execute_result",
          "data": {
            "text/html": [
              "<div>\n",
              "<style scoped>\n",
              "    .dataframe tbody tr th:only-of-type {\n",
              "        vertical-align: middle;\n",
              "    }\n",
              "\n",
              "    .dataframe tbody tr th {\n",
              "        vertical-align: top;\n",
              "    }\n",
              "\n",
              "    .dataframe thead th {\n",
              "        text-align: right;\n",
              "    }\n",
              "</style>\n",
              "<table border=\"1\" class=\"dataframe\">\n",
              "  <thead>\n",
              "    <tr style=\"text-align: right;\">\n",
              "      <th></th>\n",
              "      <th>Unnamed: 0</th>\n",
              "      <th>ID</th>\n",
              "      <th>Name</th>\n",
              "      <th>Age</th>\n",
              "      <th>Photo</th>\n",
              "      <th>Nationality</th>\n",
              "      <th>Flag</th>\n",
              "      <th>Overall</th>\n",
              "      <th>Potential</th>\n",
              "      <th>Club</th>\n",
              "      <th>Club Logo</th>\n",
              "      <th>Value</th>\n",
              "      <th>Wage</th>\n",
              "      <th>Special</th>\n",
              "      <th>Preferred Foot</th>\n",
              "      <th>International Reputation</th>\n",
              "      <th>Weak Foot</th>\n",
              "      <th>Skill Moves</th>\n",
              "      <th>Work Rate</th>\n",
              "      <th>Body Type</th>\n",
              "      <th>Real Face</th>\n",
              "      <th>Position</th>\n",
              "      <th>Jersey Number</th>\n",
              "      <th>Joined</th>\n",
              "      <th>Loaned From</th>\n",
              "      <th>Contract Valid Until</th>\n",
              "      <th>Height</th>\n",
              "      <th>Weight</th>\n",
              "      <th>LS</th>\n",
              "      <th>ST</th>\n",
              "      <th>RS</th>\n",
              "      <th>LW</th>\n",
              "      <th>LF</th>\n",
              "      <th>CF</th>\n",
              "      <th>RF</th>\n",
              "      <th>RW</th>\n",
              "      <th>LAM</th>\n",
              "      <th>CAM</th>\n",
              "      <th>RAM</th>\n",
              "      <th>LM</th>\n",
              "      <th>...</th>\n",
              "      <th>LB</th>\n",
              "      <th>LCB</th>\n",
              "      <th>CB</th>\n",
              "      <th>RCB</th>\n",
              "      <th>RB</th>\n",
              "      <th>Crossing</th>\n",
              "      <th>Finishing</th>\n",
              "      <th>HeadingAccuracy</th>\n",
              "      <th>ShortPassing</th>\n",
              "      <th>Volleys</th>\n",
              "      <th>Dribbling</th>\n",
              "      <th>Curve</th>\n",
              "      <th>FKAccuracy</th>\n",
              "      <th>LongPassing</th>\n",
              "      <th>BallControl</th>\n",
              "      <th>Acceleration</th>\n",
              "      <th>SprintSpeed</th>\n",
              "      <th>Agility</th>\n",
              "      <th>Reactions</th>\n",
              "      <th>Balance</th>\n",
              "      <th>ShotPower</th>\n",
              "      <th>Jumping</th>\n",
              "      <th>Stamina</th>\n",
              "      <th>Strength</th>\n",
              "      <th>LongShots</th>\n",
              "      <th>Aggression</th>\n",
              "      <th>Interceptions</th>\n",
              "      <th>Positioning</th>\n",
              "      <th>Vision</th>\n",
              "      <th>Penalties</th>\n",
              "      <th>Composure</th>\n",
              "      <th>Marking</th>\n",
              "      <th>StandingTackle</th>\n",
              "      <th>SlidingTackle</th>\n",
              "      <th>GKDiving</th>\n",
              "      <th>GKHandling</th>\n",
              "      <th>GKKicking</th>\n",
              "      <th>GKPositioning</th>\n",
              "      <th>GKReflexes</th>\n",
              "      <th>Release Clause</th>\n",
              "    </tr>\n",
              "  </thead>\n",
              "  <tbody>\n",
              "    <tr>\n",
              "      <th>1193</th>\n",
              "      <td>1193</td>\n",
              "      <td>202750</td>\n",
              "      <td>W. Boly</td>\n",
              "      <td>27</td>\n",
              "      <td>https://cdn.sofifa.org/players/4/19/202750.png</td>\n",
              "      <td>France</td>\n",
              "      <td>https://cdn.sofifa.org/flags/18.png</td>\n",
              "      <td>77</td>\n",
              "      <td>80</td>\n",
              "      <td>Wolverhampton Wanderers</td>\n",
              "      <td>https://cdn.sofifa.org/teams/2/light/110.png</td>\n",
              "      <td>€9M</td>\n",
              "      <td>€58K</td>\n",
              "      <td>1660</td>\n",
              "      <td>Right</td>\n",
              "      <td>1.0</td>\n",
              "      <td>4.0</td>\n",
              "      <td>2.0</td>\n",
              "      <td>Medium/ Medium</td>\n",
              "      <td>Normal</td>\n",
              "      <td>Yes</td>\n",
              "      <td>LCB</td>\n",
              "      <td>15.0</td>\n",
              "      <td>Jun 9, 2018</td>\n",
              "      <td>NaN</td>\n",
              "      <td>2021</td>\n",
              "      <td>6'5</td>\n",
              "      <td>214lbs</td>\n",
              "      <td>54+2</td>\n",
              "      <td>54+2</td>\n",
              "      <td>54+2</td>\n",
              "      <td>52+2</td>\n",
              "      <td>52+2</td>\n",
              "      <td>52+2</td>\n",
              "      <td>52+2</td>\n",
              "      <td>52+2</td>\n",
              "      <td>54+2</td>\n",
              "      <td>54+2</td>\n",
              "      <td>54+2</td>\n",
              "      <td>55+2</td>\n",
              "      <td>...</td>\n",
              "      <td>68+2</td>\n",
              "      <td>76+2</td>\n",
              "      <td>76+2</td>\n",
              "      <td>76+2</td>\n",
              "      <td>68+2</td>\n",
              "      <td>50.0</td>\n",
              "      <td>32.0</td>\n",
              "      <td>75.0</td>\n",
              "      <td>70.0</td>\n",
              "      <td>23.0</td>\n",
              "      <td>48.0</td>\n",
              "      <td>43.0</td>\n",
              "      <td>35.0</td>\n",
              "      <td>58.0</td>\n",
              "      <td>60.0</td>\n",
              "      <td>57.0</td>\n",
              "      <td>69.0</td>\n",
              "      <td>55.0</td>\n",
              "      <td>71.0</td>\n",
              "      <td>45.0</td>\n",
              "      <td>52.0</td>\n",
              "      <td>62.0</td>\n",
              "      <td>58.0</td>\n",
              "      <td>93.0</td>\n",
              "      <td>21.0</td>\n",
              "      <td>79.0</td>\n",
              "      <td>76.0</td>\n",
              "      <td>43.0</td>\n",
              "      <td>52.0</td>\n",
              "      <td>56.0</td>\n",
              "      <td>76.0</td>\n",
              "      <td>72.0</td>\n",
              "      <td>78.0</td>\n",
              "      <td>78.0</td>\n",
              "      <td>7.0</td>\n",
              "      <td>8.0</td>\n",
              "      <td>15.0</td>\n",
              "      <td>10.0</td>\n",
              "      <td>9.0</td>\n",
              "      <td>€17.8M</td>\n",
              "    </tr>\n",
              "    <tr>\n",
              "      <th>5192</th>\n",
              "      <td>5192</td>\n",
              "      <td>228732</td>\n",
              "      <td>H. Moukoudi</td>\n",
              "      <td>20</td>\n",
              "      <td>https://cdn.sofifa.org/players/4/19/228732.png</td>\n",
              "      <td>France</td>\n",
              "      <td>https://cdn.sofifa.org/flags/18.png</td>\n",
              "      <td>70</td>\n",
              "      <td>81</td>\n",
              "      <td>Le Havre AC</td>\n",
              "      <td>https://cdn.sofifa.org/teams/2/light/1738.png</td>\n",
              "      <td>€2.7M</td>\n",
              "      <td>€3K</td>\n",
              "      <td>1435</td>\n",
              "      <td>Right</td>\n",
              "      <td>1.0</td>\n",
              "      <td>3.0</td>\n",
              "      <td>2.0</td>\n",
              "      <td>Medium/ Medium</td>\n",
              "      <td>Stocky</td>\n",
              "      <td>No</td>\n",
              "      <td>RCB</td>\n",
              "      <td>4.0</td>\n",
              "      <td>Jul 1, 2016</td>\n",
              "      <td>NaN</td>\n",
              "      <td>2019</td>\n",
              "      <td>6'3</td>\n",
              "      <td>196lbs</td>\n",
              "      <td>47+2</td>\n",
              "      <td>47+2</td>\n",
              "      <td>47+2</td>\n",
              "      <td>41+2</td>\n",
              "      <td>43+2</td>\n",
              "      <td>43+2</td>\n",
              "      <td>43+2</td>\n",
              "      <td>41+2</td>\n",
              "      <td>43+2</td>\n",
              "      <td>43+2</td>\n",
              "      <td>43+2</td>\n",
              "      <td>44+2</td>\n",
              "      <td>...</td>\n",
              "      <td>61+2</td>\n",
              "      <td>69+2</td>\n",
              "      <td>69+2</td>\n",
              "      <td>69+2</td>\n",
              "      <td>61+2</td>\n",
              "      <td>23.0</td>\n",
              "      <td>26.0</td>\n",
              "      <td>74.0</td>\n",
              "      <td>55.0</td>\n",
              "      <td>27.0</td>\n",
              "      <td>39.0</td>\n",
              "      <td>30.0</td>\n",
              "      <td>29.0</td>\n",
              "      <td>46.0</td>\n",
              "      <td>55.0</td>\n",
              "      <td>51.0</td>\n",
              "      <td>62.0</td>\n",
              "      <td>40.0</td>\n",
              "      <td>60.0</td>\n",
              "      <td>38.0</td>\n",
              "      <td>42.0</td>\n",
              "      <td>52.0</td>\n",
              "      <td>73.0</td>\n",
              "      <td>93.0</td>\n",
              "      <td>25.0</td>\n",
              "      <td>61.0</td>\n",
              "      <td>67.0</td>\n",
              "      <td>31.0</td>\n",
              "      <td>28.0</td>\n",
              "      <td>38.0</td>\n",
              "      <td>60.0</td>\n",
              "      <td>69.0</td>\n",
              "      <td>72.0</td>\n",
              "      <td>67.0</td>\n",
              "      <td>12.0</td>\n",
              "      <td>14.0</td>\n",
              "      <td>12.0</td>\n",
              "      <td>15.0</td>\n",
              "      <td>9.0</td>\n",
              "      <td>€5.3M</td>\n",
              "    </tr>\n",
              "    <tr>\n",
              "      <th>7144</th>\n",
              "      <td>7144</td>\n",
              "      <td>200067</td>\n",
              "      <td>Z. Diallo</td>\n",
              "      <td>31</td>\n",
              "      <td>https://cdn.sofifa.org/players/4/19/200067.png</td>\n",
              "      <td>France</td>\n",
              "      <td>https://cdn.sofifa.org/flags/18.png</td>\n",
              "      <td>68</td>\n",
              "      <td>68</td>\n",
              "      <td>Montreal Impact</td>\n",
              "      <td>https://cdn.sofifa.org/teams/2/light/111139.png</td>\n",
              "      <td>€600K</td>\n",
              "      <td>€3K</td>\n",
              "      <td>1502</td>\n",
              "      <td>Right</td>\n",
              "      <td>1.0</td>\n",
              "      <td>3.0</td>\n",
              "      <td>2.0</td>\n",
              "      <td>Medium/ Medium</td>\n",
              "      <td>Normal</td>\n",
              "      <td>No</td>\n",
              "      <td>CB</td>\n",
              "      <td>5.0</td>\n",
              "      <td>Feb 7, 2018</td>\n",
              "      <td>NaN</td>\n",
              "      <td>2019</td>\n",
              "      <td>6'4</td>\n",
              "      <td>198lbs</td>\n",
              "      <td>49+2</td>\n",
              "      <td>49+2</td>\n",
              "      <td>49+2</td>\n",
              "      <td>46+2</td>\n",
              "      <td>46+2</td>\n",
              "      <td>46+2</td>\n",
              "      <td>46+2</td>\n",
              "      <td>46+2</td>\n",
              "      <td>46+2</td>\n",
              "      <td>46+2</td>\n",
              "      <td>46+2</td>\n",
              "      <td>48+2</td>\n",
              "      <td>...</td>\n",
              "      <td>59+2</td>\n",
              "      <td>67+2</td>\n",
              "      <td>67+2</td>\n",
              "      <td>67+2</td>\n",
              "      <td>59+2</td>\n",
              "      <td>48.0</td>\n",
              "      <td>35.0</td>\n",
              "      <td>63.0</td>\n",
              "      <td>56.0</td>\n",
              "      <td>35.0</td>\n",
              "      <td>46.0</td>\n",
              "      <td>52.0</td>\n",
              "      <td>45.0</td>\n",
              "      <td>47.0</td>\n",
              "      <td>52.0</td>\n",
              "      <td>46.0</td>\n",
              "      <td>39.0</td>\n",
              "      <td>39.0</td>\n",
              "      <td>59.0</td>\n",
              "      <td>30.0</td>\n",
              "      <td>53.0</td>\n",
              "      <td>39.0</td>\n",
              "      <td>64.0</td>\n",
              "      <td>93.0</td>\n",
              "      <td>38.0</td>\n",
              "      <td>75.0</td>\n",
              "      <td>64.0</td>\n",
              "      <td>42.0</td>\n",
              "      <td>41.0</td>\n",
              "      <td>48.0</td>\n",
              "      <td>64.0</td>\n",
              "      <td>67.0</td>\n",
              "      <td>70.0</td>\n",
              "      <td>69.0</td>\n",
              "      <td>7.0</td>\n",
              "      <td>8.0</td>\n",
              "      <td>10.0</td>\n",
              "      <td>9.0</td>\n",
              "      <td>13.0</td>\n",
              "      <td>€900K</td>\n",
              "    </tr>\n",
              "    <tr>\n",
              "      <th>8504</th>\n",
              "      <td>8504</td>\n",
              "      <td>212420</td>\n",
              "      <td>M. Sarr</td>\n",
              "      <td>24</td>\n",
              "      <td>https://cdn.sofifa.org/players/4/19/212420.png</td>\n",
              "      <td>France</td>\n",
              "      <td>https://cdn.sofifa.org/flags/18.png</td>\n",
              "      <td>67</td>\n",
              "      <td>73</td>\n",
              "      <td>Charlton Athletic</td>\n",
              "      <td>https://cdn.sofifa.org/teams/2/light/89.png</td>\n",
              "      <td>€900K</td>\n",
              "      <td>€4K</td>\n",
              "      <td>1428</td>\n",
              "      <td>Left</td>\n",
              "      <td>1.0</td>\n",
              "      <td>3.0</td>\n",
              "      <td>2.0</td>\n",
              "      <td>Medium/ Medium</td>\n",
              "      <td>Normal</td>\n",
              "      <td>No</td>\n",
              "      <td>LB</td>\n",
              "      <td>23.0</td>\n",
              "      <td>Jul 28, 2015</td>\n",
              "      <td>NaN</td>\n",
              "      <td>2020</td>\n",
              "      <td>6'5</td>\n",
              "      <td>196lbs</td>\n",
              "      <td>46+2</td>\n",
              "      <td>46+2</td>\n",
              "      <td>46+2</td>\n",
              "      <td>44+2</td>\n",
              "      <td>45+2</td>\n",
              "      <td>45+2</td>\n",
              "      <td>45+2</td>\n",
              "      <td>44+2</td>\n",
              "      <td>47+2</td>\n",
              "      <td>47+2</td>\n",
              "      <td>47+2</td>\n",
              "      <td>47+2</td>\n",
              "      <td>...</td>\n",
              "      <td>57+2</td>\n",
              "      <td>66+2</td>\n",
              "      <td>66+2</td>\n",
              "      <td>66+2</td>\n",
              "      <td>57+2</td>\n",
              "      <td>36.0</td>\n",
              "      <td>26.0</td>\n",
              "      <td>70.0</td>\n",
              "      <td>67.0</td>\n",
              "      <td>31.0</td>\n",
              "      <td>49.0</td>\n",
              "      <td>29.0</td>\n",
              "      <td>34.0</td>\n",
              "      <td>55.0</td>\n",
              "      <td>51.0</td>\n",
              "      <td>34.0</td>\n",
              "      <td>51.0</td>\n",
              "      <td>34.0</td>\n",
              "      <td>57.0</td>\n",
              "      <td>33.0</td>\n",
              "      <td>45.0</td>\n",
              "      <td>53.0</td>\n",
              "      <td>60.0</td>\n",
              "      <td>93.0</td>\n",
              "      <td>28.0</td>\n",
              "      <td>64.0</td>\n",
              "      <td>58.0</td>\n",
              "      <td>31.0</td>\n",
              "      <td>51.0</td>\n",
              "      <td>42.0</td>\n",
              "      <td>58.0</td>\n",
              "      <td>66.0</td>\n",
              "      <td>66.0</td>\n",
              "      <td>64.0</td>\n",
              "      <td>14.0</td>\n",
              "      <td>12.0</td>\n",
              "      <td>8.0</td>\n",
              "      <td>8.0</td>\n",
              "      <td>8.0</td>\n",
              "      <td>€1.8M</td>\n",
              "    </tr>\n",
              "  </tbody>\n",
              "</table>\n",
              "<p>4 rows × 89 columns</p>\n",
              "</div>"
            ],
            "text/plain": [
              "      Unnamed: 0      ID  ... GKReflexes  Release Clause\n",
              "1193        1193  202750  ...        9.0          €17.8M\n",
              "5192        5192  228732  ...        9.0           €5.3M\n",
              "7144        7144  200067  ...       13.0           €900K\n",
              "8504        8504  212420  ...        8.0           €1.8M\n",
              "\n",
              "[4 rows x 89 columns]"
            ]
          },
          "metadata": {
            "tags": []
          },
          "execution_count": 16
        }
      ]
    },
    {
      "cell_type": "code",
      "metadata": {
        "colab": {
          "base_uri": "https://localhost:8080/",
          "height": 198
        },
        "id": "MN0huIKxfbxl",
        "outputId": "f9e2345f-6df7-46ff-d6ca-54de86fa59a1"
      },
      "source": [
        "highest_strength('brazil')"
      ],
      "execution_count": null,
      "outputs": [
        {
          "output_type": "execute_result",
          "data": {
            "text/html": [
              "<div>\n",
              "<style scoped>\n",
              "    .dataframe tbody tr th:only-of-type {\n",
              "        vertical-align: middle;\n",
              "    }\n",
              "\n",
              "    .dataframe tbody tr th {\n",
              "        vertical-align: top;\n",
              "    }\n",
              "\n",
              "    .dataframe thead th {\n",
              "        text-align: right;\n",
              "    }\n",
              "</style>\n",
              "<table border=\"1\" class=\"dataframe\">\n",
              "  <thead>\n",
              "    <tr style=\"text-align: right;\">\n",
              "      <th></th>\n",
              "      <th>Unnamed: 0</th>\n",
              "      <th>ID</th>\n",
              "      <th>Name</th>\n",
              "      <th>Age</th>\n",
              "      <th>Photo</th>\n",
              "      <th>Nationality</th>\n",
              "      <th>Flag</th>\n",
              "      <th>Overall</th>\n",
              "      <th>Potential</th>\n",
              "      <th>Club</th>\n",
              "      <th>Club Logo</th>\n",
              "      <th>Value</th>\n",
              "      <th>Wage</th>\n",
              "      <th>Special</th>\n",
              "      <th>Preferred Foot</th>\n",
              "      <th>International Reputation</th>\n",
              "      <th>Weak Foot</th>\n",
              "      <th>Skill Moves</th>\n",
              "      <th>Work Rate</th>\n",
              "      <th>Body Type</th>\n",
              "      <th>Real Face</th>\n",
              "      <th>Position</th>\n",
              "      <th>Jersey Number</th>\n",
              "      <th>Joined</th>\n",
              "      <th>Loaned From</th>\n",
              "      <th>Contract Valid Until</th>\n",
              "      <th>Height</th>\n",
              "      <th>Weight</th>\n",
              "      <th>LS</th>\n",
              "      <th>ST</th>\n",
              "      <th>RS</th>\n",
              "      <th>LW</th>\n",
              "      <th>LF</th>\n",
              "      <th>CF</th>\n",
              "      <th>RF</th>\n",
              "      <th>RW</th>\n",
              "      <th>LAM</th>\n",
              "      <th>CAM</th>\n",
              "      <th>RAM</th>\n",
              "      <th>LM</th>\n",
              "      <th>...</th>\n",
              "      <th>LB</th>\n",
              "      <th>LCB</th>\n",
              "      <th>CB</th>\n",
              "      <th>RCB</th>\n",
              "      <th>RB</th>\n",
              "      <th>Crossing</th>\n",
              "      <th>Finishing</th>\n",
              "      <th>HeadingAccuracy</th>\n",
              "      <th>ShortPassing</th>\n",
              "      <th>Volleys</th>\n",
              "      <th>Dribbling</th>\n",
              "      <th>Curve</th>\n",
              "      <th>FKAccuracy</th>\n",
              "      <th>LongPassing</th>\n",
              "      <th>BallControl</th>\n",
              "      <th>Acceleration</th>\n",
              "      <th>SprintSpeed</th>\n",
              "      <th>Agility</th>\n",
              "      <th>Reactions</th>\n",
              "      <th>Balance</th>\n",
              "      <th>ShotPower</th>\n",
              "      <th>Jumping</th>\n",
              "      <th>Stamina</th>\n",
              "      <th>Strength</th>\n",
              "      <th>LongShots</th>\n",
              "      <th>Aggression</th>\n",
              "      <th>Interceptions</th>\n",
              "      <th>Positioning</th>\n",
              "      <th>Vision</th>\n",
              "      <th>Penalties</th>\n",
              "      <th>Composure</th>\n",
              "      <th>Marking</th>\n",
              "      <th>StandingTackle</th>\n",
              "      <th>SlidingTackle</th>\n",
              "      <th>GKDiving</th>\n",
              "      <th>GKHandling</th>\n",
              "      <th>GKKicking</th>\n",
              "      <th>GKPositioning</th>\n",
              "      <th>GKReflexes</th>\n",
              "      <th>Release Clause</th>\n",
              "    </tr>\n",
              "  </thead>\n",
              "  <tbody>\n",
              "    <tr>\n",
              "      <th>1124</th>\n",
              "      <td>1124</td>\n",
              "      <td>232381</td>\n",
              "      <td>Wesley</td>\n",
              "      <td>21</td>\n",
              "      <td>https://cdn.sofifa.org/players/4/19/232381.png</td>\n",
              "      <td>Brazil</td>\n",
              "      <td>https://cdn.sofifa.org/flags/54.png</td>\n",
              "      <td>77</td>\n",
              "      <td>85</td>\n",
              "      <td>Club Brugge KV</td>\n",
              "      <td>https://cdn.sofifa.org/teams/2/light/231.png</td>\n",
              "      <td>€13.5M</td>\n",
              "      <td>€20K</td>\n",
              "      <td>1831</td>\n",
              "      <td>Right</td>\n",
              "      <td>1.0</td>\n",
              "      <td>3.0</td>\n",
              "      <td>3.0</td>\n",
              "      <td>High/ High</td>\n",
              "      <td>Stocky</td>\n",
              "      <td>No</td>\n",
              "      <td>LS</td>\n",
              "      <td>7.0</td>\n",
              "      <td>Jan 29, 2016</td>\n",
              "      <td>NaN</td>\n",
              "      <td>2023</td>\n",
              "      <td>6'3</td>\n",
              "      <td>207lbs</td>\n",
              "      <td>75+2</td>\n",
              "      <td>75+2</td>\n",
              "      <td>75+2</td>\n",
              "      <td>72+2</td>\n",
              "      <td>74+2</td>\n",
              "      <td>74+2</td>\n",
              "      <td>74+2</td>\n",
              "      <td>72+2</td>\n",
              "      <td>72+2</td>\n",
              "      <td>72+2</td>\n",
              "      <td>72+2</td>\n",
              "      <td>72+2</td>\n",
              "      <td>...</td>\n",
              "      <td>52+2</td>\n",
              "      <td>52+2</td>\n",
              "      <td>52+2</td>\n",
              "      <td>52+2</td>\n",
              "      <td>52+2</td>\n",
              "      <td>65.0</td>\n",
              "      <td>75.0</td>\n",
              "      <td>73.0</td>\n",
              "      <td>75.0</td>\n",
              "      <td>71.0</td>\n",
              "      <td>76.0</td>\n",
              "      <td>57.0</td>\n",
              "      <td>49.0</td>\n",
              "      <td>67.0</td>\n",
              "      <td>78.0</td>\n",
              "      <td>68.0</td>\n",
              "      <td>79.0</td>\n",
              "      <td>50.0</td>\n",
              "      <td>71.0</td>\n",
              "      <td>45.0</td>\n",
              "      <td>81.0</td>\n",
              "      <td>66.0</td>\n",
              "      <td>74.0</td>\n",
              "      <td>95.0</td>\n",
              "      <td>67.0</td>\n",
              "      <td>80.0</td>\n",
              "      <td>37.0</td>\n",
              "      <td>74.0</td>\n",
              "      <td>68.0</td>\n",
              "      <td>60.0</td>\n",
              "      <td>75.0</td>\n",
              "      <td>35.0</td>\n",
              "      <td>27.0</td>\n",
              "      <td>15.0</td>\n",
              "      <td>12.0</td>\n",
              "      <td>13.0</td>\n",
              "      <td>14.0</td>\n",
              "      <td>8.0</td>\n",
              "      <td>6.0</td>\n",
              "      <td>€23M</td>\n",
              "    </tr>\n",
              "  </tbody>\n",
              "</table>\n",
              "<p>1 rows × 89 columns</p>\n",
              "</div>"
            ],
            "text/plain": [
              "      Unnamed: 0      ID    Name  ...  GKPositioning GKReflexes Release Clause\n",
              "1124        1124  232381  Wesley  ...            8.0        6.0           €23M\n",
              "\n",
              "[1 rows x 89 columns]"
            ]
          },
          "metadata": {
            "tags": []
          },
          "execution_count": 155
        }
      ]
    },
    {
      "cell_type": "markdown",
      "metadata": {
        "id": "XQVhrf9dgImY"
      },
      "source": [
        "## 2"
      ]
    },
    {
      "cell_type": "code",
      "metadata": {
        "id": "tYT5ExRjf46M"
      },
      "source": [
        "def overall_avg(club):\n",
        "  cl_df = fifa_df[fifa_df['Club'] == club]\n",
        "  return  cl_df['Overall'].mean(axis=0, skipna=True)"
      ],
      "execution_count": null,
      "outputs": []
    },
    {
      "cell_type": "code",
      "metadata": {
        "colab": {
          "base_uri": "https://localhost:8080/"
        },
        "id": "pXlx2fNYl5cl",
        "outputId": "7371ccb9-202d-46fb-9d6b-ad83df792e5a"
      },
      "source": [
        "overall_avg('FC Barcelona')"
      ],
      "execution_count": null,
      "outputs": [
        {
          "output_type": "execute_result",
          "data": {
            "text/plain": [
              "78.03030303030303"
            ]
          },
          "metadata": {
            "tags": []
          },
          "execution_count": 18
        }
      ]
    }
  ]
}