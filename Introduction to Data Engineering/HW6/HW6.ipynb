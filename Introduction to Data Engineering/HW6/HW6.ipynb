{
  "nbformat": 4,
  "nbformat_minor": 0,
  "metadata": {
    "colab": {
      "name": "313354763_208421271.ipynb",
      "provenance": [],
      "collapsed_sections": []
    },
    "kernelspec": {
      "name": "python3",
      "display_name": "Python 3"
    }
  },
  "cells": [
    {
      "cell_type": "code",
      "metadata": {
        "colab": {
          "base_uri": "https://localhost:8080/"
        },
        "id": "gHGBNsOJMxWP",
        "outputId": "8564f6f6-e5bd-455b-db50-ebf99d930fe0"
      },
      "source": [
        "!mkdir /root/.kaggle/\n",
        "!pip install pandas\n",
        "import os\n",
        "import json\n",
        "\n",
        "import numpy as np\n",
        "import pandas as pd\n",
        "import matplotlib.pyplot as plt\n",
        "import plotly.express as px\n",
        "import seaborn as sns\n",
        "\n",
        "from scipy.stats import pearsonr\n",
        "from sklearn.linear_model import LinearRegression\n",
        "from sklearn.model_selection import train_test_split\n",
        "from sklearn import metrics\n",
        " \n",
        "%matplotlib inline\n",
        " \n",
        " \n",
        "# Installing the Kaggle package\n",
        "!pip install kaggle \n",
        " \n",
        "#Important Note: complete this with your own key - after running this for the first time remmember to **remove** your API_KEY\n",
        "api_token = {\"username\":\"USERNAME\",\"key\":\"KEYKEYKEY\"}\n",
        " \n",
        "# creating kaggle.json file with the personal API-Key details \n",
        "# You can also put this file on your Google Drive\n",
        "with open('/root/.kaggle/kaggle.json', 'w') as file:\n",
        "  json.dump(api_token, file)\n",
        "!chmod 600 /root/.kaggle/kaggle.json"
      ],
      "execution_count": null,
      "outputs": [
        {
          "output_type": "stream",
          "text": [
            "mkdir: cannot create directory ‘/root/.kaggle/’: File exists\n",
            "Requirement already satisfied: pandas in /usr/local/lib/python3.6/dist-packages (1.1.5)\n",
            "Requirement already satisfied: pytz>=2017.2 in /usr/local/lib/python3.6/dist-packages (from pandas) (2018.9)\n",
            "Requirement already satisfied: python-dateutil>=2.7.3 in /usr/local/lib/python3.6/dist-packages (from pandas) (2.8.1)\n",
            "Requirement already satisfied: numpy>=1.15.4 in /usr/local/lib/python3.6/dist-packages (from pandas) (1.18.5)\n",
            "Requirement already satisfied: six>=1.5 in /usr/local/lib/python3.6/dist-packages (from python-dateutil>=2.7.3->pandas) (1.15.0)\n",
            "Requirement already satisfied: kaggle in /usr/local/lib/python3.6/dist-packages (1.5.10)\n",
            "Requirement already satisfied: six>=1.10 in /usr/local/lib/python3.6/dist-packages (from kaggle) (1.15.0)\n",
            "Requirement already satisfied: python-dateutil in /usr/local/lib/python3.6/dist-packages (from kaggle) (2.8.1)\n",
            "Requirement already satisfied: certifi in /usr/local/lib/python3.6/dist-packages (from kaggle) (2020.12.5)\n",
            "Requirement already satisfied: urllib3 in /usr/local/lib/python3.6/dist-packages (from kaggle) (1.24.3)\n",
            "Requirement already satisfied: requests in /usr/local/lib/python3.6/dist-packages (from kaggle) (2.23.0)\n",
            "Requirement already satisfied: tqdm in /usr/local/lib/python3.6/dist-packages (from kaggle) (4.41.1)\n",
            "Requirement already satisfied: python-slugify in /usr/local/lib/python3.6/dist-packages (from kaggle) (4.0.1)\n",
            "Requirement already satisfied: idna<3,>=2.5 in /usr/local/lib/python3.6/dist-packages (from requests->kaggle) (2.10)\n",
            "Requirement already satisfied: chardet<4,>=3.0.2 in /usr/local/lib/python3.6/dist-packages (from requests->kaggle) (3.0.4)\n",
            "Requirement already satisfied: text-unidecode>=1.3 in /usr/local/lib/python3.6/dist-packages (from python-slugify->kaggle) (1.3)\n"
          ],
          "name": "stdout"
        }
      ]
    },
    {
      "cell_type": "markdown",
      "metadata": {
        "id": "yoUYcpLZNPKt"
      },
      "source": [
        "#Q1"
      ]
    },
    {
      "cell_type": "code",
      "metadata": {
        "colab": {
          "base_uri": "https://localhost:8080/"
        },
        "id": "BKjHXDrbODsh",
        "outputId": "4ec9603f-8029-489c-8d78-39fc3a1102bb"
      },
      "source": [
        "!kaggle datasets download -d shivam2503/diamonds -p ./datasets/diamonds/\n",
        "!unzip ./datasets/diamonds/*.zip  -d ./datasets/diamonds/\n",
        "\n",
        "diamonds_df = pd.read_csv('/content/datasets/diamonds/diamonds.csv')"
      ],
      "execution_count": null,
      "outputs": [
        {
          "output_type": "stream",
          "text": [
            "diamonds.zip: Skipping, found more recently modified local copy (use --force to force download)\n",
            "Archive:  ./datasets/diamonds/diamonds.zip\n",
            "replace ./datasets/diamonds/diamonds.csv? [y]es, [n]o, [A]ll, [N]one, [r]ename: N\n"
          ],
          "name": "stdout"
        }
      ]
    },
    {
      "cell_type": "code",
      "metadata": {
        "colab": {
          "base_uri": "https://localhost:8080/",
          "height": 402
        },
        "id": "DN0V32F1PDgX",
        "outputId": "1d0a8192-e0d8-4530-d2c4-050f4378c766"
      },
      "source": [
        "diamonds_df"
      ],
      "execution_count": null,
      "outputs": [
        {
          "output_type": "execute_result",
          "data": {
            "text/html": [
              "<div>\n",
              "<style scoped>\n",
              "    .dataframe tbody tr th:only-of-type {\n",
              "        vertical-align: middle;\n",
              "    }\n",
              "\n",
              "    .dataframe tbody tr th {\n",
              "        vertical-align: top;\n",
              "    }\n",
              "\n",
              "    .dataframe thead th {\n",
              "        text-align: right;\n",
              "    }\n",
              "</style>\n",
              "<table border=\"1\" class=\"dataframe\">\n",
              "  <thead>\n",
              "    <tr style=\"text-align: right;\">\n",
              "      <th></th>\n",
              "      <th>Unnamed: 0</th>\n",
              "      <th>carat</th>\n",
              "      <th>cut</th>\n",
              "      <th>color</th>\n",
              "      <th>clarity</th>\n",
              "      <th>depth</th>\n",
              "      <th>table</th>\n",
              "      <th>price</th>\n",
              "      <th>x</th>\n",
              "      <th>y</th>\n",
              "      <th>z</th>\n",
              "    </tr>\n",
              "  </thead>\n",
              "  <tbody>\n",
              "    <tr>\n",
              "      <th>0</th>\n",
              "      <td>1</td>\n",
              "      <td>0.23</td>\n",
              "      <td>Ideal</td>\n",
              "      <td>E</td>\n",
              "      <td>SI2</td>\n",
              "      <td>61.5</td>\n",
              "      <td>55.0</td>\n",
              "      <td>326</td>\n",
              "      <td>3.95</td>\n",
              "      <td>3.98</td>\n",
              "      <td>2.43</td>\n",
              "    </tr>\n",
              "    <tr>\n",
              "      <th>1</th>\n",
              "      <td>2</td>\n",
              "      <td>0.21</td>\n",
              "      <td>Premium</td>\n",
              "      <td>E</td>\n",
              "      <td>SI1</td>\n",
              "      <td>59.8</td>\n",
              "      <td>61.0</td>\n",
              "      <td>326</td>\n",
              "      <td>3.89</td>\n",
              "      <td>3.84</td>\n",
              "      <td>2.31</td>\n",
              "    </tr>\n",
              "    <tr>\n",
              "      <th>2</th>\n",
              "      <td>3</td>\n",
              "      <td>0.23</td>\n",
              "      <td>Good</td>\n",
              "      <td>E</td>\n",
              "      <td>VS1</td>\n",
              "      <td>56.9</td>\n",
              "      <td>65.0</td>\n",
              "      <td>327</td>\n",
              "      <td>4.05</td>\n",
              "      <td>4.07</td>\n",
              "      <td>2.31</td>\n",
              "    </tr>\n",
              "    <tr>\n",
              "      <th>3</th>\n",
              "      <td>4</td>\n",
              "      <td>0.29</td>\n",
              "      <td>Premium</td>\n",
              "      <td>I</td>\n",
              "      <td>VS2</td>\n",
              "      <td>62.4</td>\n",
              "      <td>58.0</td>\n",
              "      <td>334</td>\n",
              "      <td>4.20</td>\n",
              "      <td>4.23</td>\n",
              "      <td>2.63</td>\n",
              "    </tr>\n",
              "    <tr>\n",
              "      <th>4</th>\n",
              "      <td>5</td>\n",
              "      <td>0.31</td>\n",
              "      <td>Good</td>\n",
              "      <td>J</td>\n",
              "      <td>SI2</td>\n",
              "      <td>63.3</td>\n",
              "      <td>58.0</td>\n",
              "      <td>335</td>\n",
              "      <td>4.34</td>\n",
              "      <td>4.35</td>\n",
              "      <td>2.75</td>\n",
              "    </tr>\n",
              "    <tr>\n",
              "      <th>...</th>\n",
              "      <td>...</td>\n",
              "      <td>...</td>\n",
              "      <td>...</td>\n",
              "      <td>...</td>\n",
              "      <td>...</td>\n",
              "      <td>...</td>\n",
              "      <td>...</td>\n",
              "      <td>...</td>\n",
              "      <td>...</td>\n",
              "      <td>...</td>\n",
              "      <td>...</td>\n",
              "    </tr>\n",
              "    <tr>\n",
              "      <th>53935</th>\n",
              "      <td>53936</td>\n",
              "      <td>0.72</td>\n",
              "      <td>Ideal</td>\n",
              "      <td>D</td>\n",
              "      <td>SI1</td>\n",
              "      <td>60.8</td>\n",
              "      <td>57.0</td>\n",
              "      <td>2757</td>\n",
              "      <td>5.75</td>\n",
              "      <td>5.76</td>\n",
              "      <td>3.50</td>\n",
              "    </tr>\n",
              "    <tr>\n",
              "      <th>53936</th>\n",
              "      <td>53937</td>\n",
              "      <td>0.72</td>\n",
              "      <td>Good</td>\n",
              "      <td>D</td>\n",
              "      <td>SI1</td>\n",
              "      <td>63.1</td>\n",
              "      <td>55.0</td>\n",
              "      <td>2757</td>\n",
              "      <td>5.69</td>\n",
              "      <td>5.75</td>\n",
              "      <td>3.61</td>\n",
              "    </tr>\n",
              "    <tr>\n",
              "      <th>53937</th>\n",
              "      <td>53938</td>\n",
              "      <td>0.70</td>\n",
              "      <td>Very Good</td>\n",
              "      <td>D</td>\n",
              "      <td>SI1</td>\n",
              "      <td>62.8</td>\n",
              "      <td>60.0</td>\n",
              "      <td>2757</td>\n",
              "      <td>5.66</td>\n",
              "      <td>5.68</td>\n",
              "      <td>3.56</td>\n",
              "    </tr>\n",
              "    <tr>\n",
              "      <th>53938</th>\n",
              "      <td>53939</td>\n",
              "      <td>0.86</td>\n",
              "      <td>Premium</td>\n",
              "      <td>H</td>\n",
              "      <td>SI2</td>\n",
              "      <td>61.0</td>\n",
              "      <td>58.0</td>\n",
              "      <td>2757</td>\n",
              "      <td>6.15</td>\n",
              "      <td>6.12</td>\n",
              "      <td>3.74</td>\n",
              "    </tr>\n",
              "    <tr>\n",
              "      <th>53939</th>\n",
              "      <td>53940</td>\n",
              "      <td>0.75</td>\n",
              "      <td>Ideal</td>\n",
              "      <td>D</td>\n",
              "      <td>SI2</td>\n",
              "      <td>62.2</td>\n",
              "      <td>55.0</td>\n",
              "      <td>2757</td>\n",
              "      <td>5.83</td>\n",
              "      <td>5.87</td>\n",
              "      <td>3.64</td>\n",
              "    </tr>\n",
              "  </tbody>\n",
              "</table>\n",
              "<p>53940 rows × 11 columns</p>\n",
              "</div>"
            ],
            "text/plain": [
              "       Unnamed: 0  carat        cut color  ... price     x     y     z\n",
              "0               1   0.23      Ideal     E  ...   326  3.95  3.98  2.43\n",
              "1               2   0.21    Premium     E  ...   326  3.89  3.84  2.31\n",
              "2               3   0.23       Good     E  ...   327  4.05  4.07  2.31\n",
              "3               4   0.29    Premium     I  ...   334  4.20  4.23  2.63\n",
              "4               5   0.31       Good     J  ...   335  4.34  4.35  2.75\n",
              "...           ...    ...        ...   ...  ...   ...   ...   ...   ...\n",
              "53935       53936   0.72      Ideal     D  ...  2757  5.75  5.76  3.50\n",
              "53936       53937   0.72       Good     D  ...  2757  5.69  5.75  3.61\n",
              "53937       53938   0.70  Very Good     D  ...  2757  5.66  5.68  3.56\n",
              "53938       53939   0.86    Premium     H  ...  2757  6.15  6.12  3.74\n",
              "53939       53940   0.75      Ideal     D  ...  2757  5.83  5.87  3.64\n",
              "\n",
              "[53940 rows x 11 columns]"
            ]
          },
          "metadata": {
            "tags": []
          },
          "execution_count": 4
        }
      ]
    },
    {
      "cell_type": "markdown",
      "metadata": {
        "id": "G6d5DZKbNSYR"
      },
      "source": [
        "##1"
      ]
    },
    {
      "cell_type": "code",
      "metadata": {
        "colab": {
          "base_uri": "https://localhost:8080/"
        },
        "id": "SYq1wqe0Nhq2",
        "outputId": "9221fa9c-1134-4766-918a-eb9130c22114"
      },
      "source": [
        "corr1, _ = pearsonr(diamonds_df['carat'], diamonds_df['price'])\n",
        "corr1"
      ],
      "execution_count": null,
      "outputs": [
        {
          "output_type": "execute_result",
          "data": {
            "text/plain": [
              "0.9215913011934771"
            ]
          },
          "metadata": {
            "tags": []
          },
          "execution_count": 5
        }
      ]
    },
    {
      "cell_type": "markdown",
      "metadata": {
        "id": "68DM9KPGNUNP"
      },
      "source": [
        "##2"
      ]
    },
    {
      "cell_type": "code",
      "metadata": {
        "colab": {
          "base_uri": "https://localhost:8080/",
          "height": 286
        },
        "id": "nM1B_C91NiOZ",
        "outputId": "98b11202-0f7d-4eee-9ffd-20415bb4f28c"
      },
      "source": [
        "col = ['carat','depth','table',\t'price','x', 'y',\t'z']\n",
        "df2 = diamonds_df[col]\n",
        "corr2 = df2.corr()\n",
        "sns.heatmap(corr2,\n",
        "            xticklabels=corr2.columns, \n",
        "            yticklabels=corr2.columns, \n",
        "            annot=True)"
      ],
      "execution_count": null,
      "outputs": [
        {
          "output_type": "execute_result",
          "data": {
            "text/plain": [
              "<matplotlib.axes._subplots.AxesSubplot at 0x7feb196d5ba8>"
            ]
          },
          "metadata": {
            "tags": []
          },
          "execution_count": 6
        },
        {
          "output_type": "display_data",
          "data": {
            "image/png": "[encoded data removed]",
            "text/plain": [
              "<Figure size 432x288 with 2 Axes>"
            ]
          },
          "metadata": {
            "tags": [],
            "needs_background": "light"
          }
        }
      ]
    },
    {
      "cell_type": "markdown",
      "metadata": {
        "id": "FVutNaEoNVtM"
      },
      "source": [
        "##3"
      ]
    },
    {
      "cell_type": "code",
      "metadata": {
        "id": "ag8cgfMCNjCx",
        "colab": {
          "base_uri": "https://localhost:8080/"
        },
        "outputId": "c4824035-1dec-450b-f9de-699df642cb74"
      },
      "source": [
        "cut_srtd = ['Ideal', 'Premium', 'Very Good', 'Good', 'Fair']\n",
        "dic = dict()\n",
        "linreg = LinearRegression()  \n",
        " \n",
        "for i in cut_srtd:\n",
        "  diamonds_df2 = diamonds_df[diamonds_df['cut'] == i]\n",
        "  val_lis = [[x] for x in diamonds_df2['carat'].values]\n",
        "  linreg.fit(val_lis, diamonds_df2['price'].values)\n",
        "  a, c = linreg.coef_, linreg.intercept_\n",
        "  def line_func(x, a=a, c=c):\n",
        "    return a * x + c \n",
        "  dic[i] = line_func\n",
        " \n",
        "  print(f\"{i}: {linreg.coef_[0]}x{'+' if linreg.intercept_ > 0 else ''}{linreg.intercept_} = Expected price\")"
      ],
      "execution_count": null,
      "outputs": [
        {
          "output_type": "stream",
          "text": [
            "Ideal: 8192.391303750845x-2300.373685458004 = Expected price\n",
            "Premium: 7807.752032223519x-2379.9049641635793 = Expected price\n",
            "Very Good: 7935.971964580969x-2417.6602432811633 = Expected price\n",
            "Good: 7479.636302868243x-2422.728047570197 = Expected price\n",
            "Fair: 5924.495106234301x-1839.0736754834215 = Expected price\n"
          ],
          "name": "stdout"
        }
      ]
    },
    {
      "cell_type": "markdown",
      "metadata": {
        "id": "qb4pnSHANWs0"
      },
      "source": [
        "##4"
      ]
    },
    {
      "cell_type": "code",
      "metadata": {
        "id": "KfcJltCNNkDo",
        "colab": {
          "base_uri": "https://localhost:8080/",
          "height": 378
        },
        "outputId": "ba0938b5-6c62-4a76-88ac-f6889b5682f5"
      },
      "source": [
        "color_lis = ['red', 'blue', 'green', 'orange', 'purple']\n",
        "plt.style.use('seaborn')\n",
        "for c, (cut, func) in zip(color_lis, dic.items()):\n",
        "  diamonds_df2 = diamonds_df[diamonds_df['cut'] == cut]\n",
        "  predict_y = [func(t) for t in diamonds_df2['carat']]\n",
        "  plt.scatter(diamonds_df2['carat'], diamonds_df2['price'], c=c)\n",
        "\n",
        "  #plot the regression line\n",
        "  plt.plot(diamonds_df2['carat'], predict_y, color=c)  \n",
        "  \n",
        "plt.xlabel(\"carat\")\n",
        "plt.ylabel(\"price\")\n",
        "plt.legend(cut_srtd)\n"
      ],
      "execution_count": null,
      "outputs": [
        {
          "output_type": "execute_result",
          "data": {
            "text/plain": [
              "<matplotlib.legend.Legend at 0x7feb16e6a7f0>"
            ]
          },
          "metadata": {
            "tags": []
          },
          "execution_count": 8
        },
        {
          "output_type": "display_data",
          "data": {
            "image/png": "[encoded data removed]",
            "text/plain": [
              "<Figure size 576x396 with 1 Axes>"
            ]
          },
          "metadata": {
            "tags": []
          }
        }
      ]
    },
    {
      "cell_type": "markdown",
      "metadata": {
        "id": "0hMhQ5NGNXU7"
      },
      "source": [
        "##5"
      ]
    },
    {
      "cell_type": "code",
      "metadata": {
        "id": "ErImJyuwNkjt"
      },
      "source": [
        "col = ['carat', 'depth', 'table', 'x', 'y', 'z']\n",
        "diamonds_df.dropna()\n",
        "\n",
        "y = diamonds_df['price']\n",
        "X = diamonds_df[col]\n",
        "\n",
        "X_train,X_test,y_train,y_test = train_test_split(X, y, test_size=0.2)"
      ],
      "execution_count": null,
      "outputs": []
    },
    {
      "cell_type": "code",
      "metadata": {
        "colab": {
          "base_uri": "https://localhost:8080/"
        },
        "id": "FhJ6md5wBLbR",
        "outputId": "9ea48309-34d1-4ad0-e1c1-729cfad7221c"
      },
      "source": [
        "mlinreg = LinearRegression()\n",
        "mlinreg.fit(X_train, y_train)"
      ],
      "execution_count": null,
      "outputs": [
        {
          "output_type": "execute_result",
          "data": {
            "text/plain": [
              "LinearRegression(copy_X=True, fit_intercept=True, n_jobs=None, normalize=False)"
            ]
          },
          "metadata": {
            "tags": []
          },
          "execution_count": 10
        }
      ]
    },
    {
      "cell_type": "code",
      "metadata": {
        "colab": {
          "base_uri": "https://localhost:8080/"
        },
        "id": "4fu_vhn4CiNR",
        "outputId": "9042a938-6f17-4c3b-83ea-363c225e0656"
      },
      "source": [
        "str = ''\n",
        "for i in range(len(col)):\n",
        "  str += f\"{mlinreg.coef_[i]} * {col[i]} + \"\n",
        "str += f\"{mlinreg.intercept_} = Expected price\"\n",
        "print(str)"
      ],
      "execution_count": null,
      "outputs": [
        {
          "output_type": "stream",
          "text": [
            "10835.417068656323 * carat + -208.221187307827 * depth + -99.6477000551508 * table + -1356.3544356172918 * x + 47.52799211871479 * y + 44.37267177492396 * z + 21216.2607764833 = Expected price\n"
          ],
          "name": "stdout"
        }
      ]
    },
    {
      "cell_type": "markdown",
      "metadata": {
        "id": "72bGkyTjEA3H"
      },
      "source": [
        "### MAE"
      ]
    },
    {
      "cell_type": "code",
      "metadata": {
        "colab": {
          "base_uri": "https://localhost:8080/"
        },
        "id": "QXGG9FblDcg5",
        "outputId": "b6ea9419-cffc-4b55-eb20-eadb0cfb30bd"
      },
      "source": [
        "y_pred = mlinreg.predict(X_test)\n",
        "\n",
        "metrics.mean_absolute_error(y_test,y_pred)"
      ],
      "execution_count": null,
      "outputs": [
        {
          "output_type": "execute_result",
          "data": {
            "text/plain": [
              "887.4996078971346"
            ]
          },
          "metadata": {
            "tags": []
          },
          "execution_count": 12
        }
      ]
    },
    {
      "cell_type": "markdown",
      "metadata": {
        "id": "KzwKw862EMMI"
      },
      "source": [
        "### RMSE"
      ]
    },
    {
      "cell_type": "code",
      "metadata": {
        "colab": {
          "base_uri": "https://localhost:8080/"
        },
        "id": "tZcFCIyREPVa",
        "outputId": "652f52ad-065b-4e12-a05e-d96b4f7da00a"
      },
      "source": [
        "np.sqrt(metrics.mean_squared_error(y_test, y_pred))"
      ],
      "execution_count": null,
      "outputs": [
        {
          "output_type": "execute_result",
          "data": {
            "text/plain": [
              "1496.5496708954893"
            ]
          },
          "metadata": {
            "tags": []
          },
          "execution_count": 13
        }
      ]
    },
    {
      "cell_type": "markdown",
      "metadata": {
        "id": "VNyopt9-NaP6"
      },
      "source": [
        "#Q2"
      ]
    },
    {
      "cell_type": "code",
      "metadata": {
        "id": "hzSAUfjMNtIW",
        "colab": {
          "base_uri": "https://localhost:8080/"
        },
        "outputId": "d1f559ec-fd2b-4eae-e8ae-99e3525bfd46"
      },
      "source": [
        "!kaggle datasets download -d doaaalsenani/usa-cers-dataset -p ./datasets/cars/\n",
        "!unzip ./datasets/cars/*.zip  -d ./datasets/cars/\n",
        "\n",
        "cars_df = pd.read_csv('/content/datasets/cars/USA_cars_datasets.csv')"
      ],
      "execution_count": null,
      "outputs": [
        {
          "output_type": "stream",
          "text": [
            "Downloading usa-cers-dataset.zip to ./datasets/cars\n",
            "\r  0% 0.00/65.9k [00:00<?, ?B/s]\n",
            "\r100% 65.9k/65.9k [00:00<00:00, 25.2MB/s]\n",
            "Archive:  ./datasets/cars/usa-cers-dataset.zip\n",
            "  inflating: ./datasets/cars/USA_cars_datasets.csv  \n"
          ],
          "name": "stdout"
        }
      ]
    },
    {
      "cell_type": "code",
      "metadata": {
        "colab": {
          "base_uri": "https://localhost:8080/",
          "height": 195
        },
        "id": "pyp22bZ4DlPf",
        "outputId": "5e549d05-d815-48b8-bc3c-83cc27054aa5"
      },
      "source": [
        "cars_df.head()"
      ],
      "execution_count": null,
      "outputs": [
        {
          "output_type": "execute_result",
          "data": {
            "text/html": [
              "<div>\n",
              "<style scoped>\n",
              "    .dataframe tbody tr th:only-of-type {\n",
              "        vertical-align: middle;\n",
              "    }\n",
              "\n",
              "    .dataframe tbody tr th {\n",
              "        vertical-align: top;\n",
              "    }\n",
              "\n",
              "    .dataframe thead th {\n",
              "        text-align: right;\n",
              "    }\n",
              "</style>\n",
              "<table border=\"1\" class=\"dataframe\">\n",
              "  <thead>\n",
              "    <tr style=\"text-align: right;\">\n",
              "      <th></th>\n",
              "      <th>Unnamed: 0</th>\n",
              "      <th>price</th>\n",
              "      <th>brand</th>\n",
              "      <th>model</th>\n",
              "      <th>year</th>\n",
              "      <th>title_status</th>\n",
              "      <th>mileage</th>\n",
              "      <th>color</th>\n",
              "      <th>vin</th>\n",
              "      <th>lot</th>\n",
              "      <th>state</th>\n",
              "      <th>country</th>\n",
              "      <th>condition</th>\n",
              "    </tr>\n",
              "  </thead>\n",
              "  <tbody>\n",
              "    <tr>\n",
              "      <th>0</th>\n",
              "      <td>0</td>\n",
              "      <td>6300</td>\n",
              "      <td>toyota</td>\n",
              "      <td>cruiser</td>\n",
              "      <td>2008</td>\n",
              "      <td>clean vehicle</td>\n",
              "      <td>274117.0</td>\n",
              "      <td>black</td>\n",
              "      <td>jtezu11f88k007763</td>\n",
              "      <td>159348797</td>\n",
              "      <td>new jersey</td>\n",
              "      <td>usa</td>\n",
              "      <td>10 days left</td>\n",
              "    </tr>\n",
              "    <tr>\n",
              "      <th>1</th>\n",
              "      <td>1</td>\n",
              "      <td>2899</td>\n",
              "      <td>ford</td>\n",
              "      <td>se</td>\n",
              "      <td>2011</td>\n",
              "      <td>clean vehicle</td>\n",
              "      <td>190552.0</td>\n",
              "      <td>silver</td>\n",
              "      <td>2fmdk3gc4bbb02217</td>\n",
              "      <td>166951262</td>\n",
              "      <td>tennessee</td>\n",
              "      <td>usa</td>\n",
              "      <td>6 days left</td>\n",
              "    </tr>\n",
              "    <tr>\n",
              "      <th>2</th>\n",
              "      <td>2</td>\n",
              "      <td>5350</td>\n",
              "      <td>dodge</td>\n",
              "      <td>mpv</td>\n",
              "      <td>2018</td>\n",
              "      <td>clean vehicle</td>\n",
              "      <td>39590.0</td>\n",
              "      <td>silver</td>\n",
              "      <td>3c4pdcgg5jt346413</td>\n",
              "      <td>167655728</td>\n",
              "      <td>georgia</td>\n",
              "      <td>usa</td>\n",
              "      <td>2 days left</td>\n",
              "    </tr>\n",
              "    <tr>\n",
              "      <th>3</th>\n",
              "      <td>3</td>\n",
              "      <td>25000</td>\n",
              "      <td>ford</td>\n",
              "      <td>door</td>\n",
              "      <td>2014</td>\n",
              "      <td>clean vehicle</td>\n",
              "      <td>64146.0</td>\n",
              "      <td>blue</td>\n",
              "      <td>1ftfw1et4efc23745</td>\n",
              "      <td>167753855</td>\n",
              "      <td>virginia</td>\n",
              "      <td>usa</td>\n",
              "      <td>22 hours left</td>\n",
              "    </tr>\n",
              "    <tr>\n",
              "      <th>4</th>\n",
              "      <td>4</td>\n",
              "      <td>27700</td>\n",
              "      <td>chevrolet</td>\n",
              "      <td>1500</td>\n",
              "      <td>2018</td>\n",
              "      <td>clean vehicle</td>\n",
              "      <td>6654.0</td>\n",
              "      <td>red</td>\n",
              "      <td>3gcpcrec2jg473991</td>\n",
              "      <td>167763266</td>\n",
              "      <td>florida</td>\n",
              "      <td>usa</td>\n",
              "      <td>22 hours left</td>\n",
              "    </tr>\n",
              "  </tbody>\n",
              "</table>\n",
              "</div>"
            ],
            "text/plain": [
              "   Unnamed: 0  price      brand  ...       state  country      condition\n",
              "0           0   6300     toyota  ...  new jersey      usa   10 days left\n",
              "1           1   2899       ford  ...   tennessee      usa    6 days left\n",
              "2           2   5350      dodge  ...     georgia      usa    2 days left\n",
              "3           3  25000       ford  ...    virginia      usa  22 hours left\n",
              "4           4  27700  chevrolet  ...     florida      usa  22 hours left\n",
              "\n",
              "[5 rows x 13 columns]"
            ]
          },
          "metadata": {
            "tags": []
          },
          "execution_count": 15
        }
      ]
    },
    {
      "cell_type": "markdown",
      "metadata": {
        "id": "YuLxnSftNeZj"
      },
      "source": [
        "## 1"
      ]
    },
    {
      "cell_type": "code",
      "metadata": {
        "colab": {
          "base_uri": "https://localhost:8080/",
          "height": 396
        },
        "id": "R-B9vZuSNlTa",
        "outputId": "c5ed199d-0c17-48cc-aa1c-89bcf600eed8"
      },
      "source": [
        "linreg = LinearRegression()\n",
        "sqrt_list_of_list = [[i] for i in cars_df['mileage'].values] \n",
        "linreg.fit(sqrt_list_of_list, cars_df['price'].values)\n",
        "\n",
        "print(f'y = {linreg.coef_[0]} * x + {linreg.intercept_}')\n",
        "linear_func = lambda x: (linreg.coef_)*x + linreg.intercept_ #the model\n",
        "predict_y_values = [linear_func(x) for x in cars_df['mileage']]\n",
        "plt.scatter(cars_df['mileage'], cars_df['price'])\n",
        "plt.xlabel(\"mileage\")\n",
        "plt.ylabel(\"price\")\n",
        "plt.ylim(0,)\n",
        "\n",
        "\n",
        "#plot the regression line\n",
        "plt.plot(cars_df['mileage'],predict_y_values, color='red' )"
      ],
      "execution_count": null,
      "outputs": [
        {
          "output_type": "stream",
          "text": [
            "y = -0.0813424590519796 * x + 23021.77515024407\n"
          ],
          "name": "stdout"
        },
        {
          "output_type": "execute_result",
          "data": {
            "text/plain": [
              "[<matplotlib.lines.Line2D at 0x7feb16883d30>]"
            ]
          },
          "metadata": {
            "tags": []
          },
          "execution_count": 16
        },
        {
          "output_type": "display_data",
          "data": {
            "image/png": "[encoded data removed]",
            "text/plain": [
              "<Figure size 576x396 with 1 Axes>"
            ]
          },
          "metadata": {
            "tags": []
          }
        }
      ]
    },
    {
      "cell_type": "markdown",
      "metadata": {
        "id": "QpP-gBSfNfg3"
      },
      "source": [
        "## 2"
      ]
    },
    {
      "cell_type": "code",
      "metadata": {
        "id": "ureFrldlNmHk",
        "colab": {
          "base_uri": "https://localhost:8080/"
        },
        "outputId": "4b8b7edc-6583-4d28-92eb-b1e8f5819b60"
      },
      "source": [
        "dodge_df = cars_df[cars_df['brand'] == 'dodge']\n",
        "col = ['year', 'mileage']\n",
        "X_train, X_test, y_train, y_test = train_test_split(dodge_df[col], dodge_df['price'])\n",
        "mlinreg = LinearRegression()\n",
        "mlinreg.fit(X_train, y_train)\n",
        "\n"
      ],
      "execution_count": null,
      "outputs": [
        {
          "output_type": "execute_result",
          "data": {
            "text/plain": [
              "LinearRegression(copy_X=True, fit_intercept=True, n_jobs=None, normalize=False)"
            ]
          },
          "metadata": {
            "tags": []
          },
          "execution_count": 5
        }
      ]
    },
    {
      "cell_type": "code",
      "metadata": {
        "colab": {
          "base_uri": "https://localhost:8080/"
        },
        "id": "Mk6EociBE84e",
        "outputId": "0f8cc319-4786-4bf1-c200-ba70985112a1"
      },
      "source": [
        "str = ''\n",
        "for i in range(len(col)):\n",
        "  str += f\"{mlinreg.coef_[i]} * {col[i]} + \"\n",
        "str += f\"{mlinreg.intercept_} = Expected price\"\n",
        "print(str)"
      ],
      "execution_count": null,
      "outputs": [
        {
          "output_type": "stream",
          "text": [
            "-468.14057102044944 * year + -0.17659866329906326 * mileage + 970236.0283904296 = Expected price\n"
          ],
          "name": "stdout"
        }
      ]
    },
    {
      "cell_type": "code",
      "metadata": {
        "colab": {
          "base_uri": "https://localhost:8080/"
        },
        "id": "0x7peuaaNRPx",
        "outputId": "0afc8c8c-3dcf-47fd-cccb-da18facb7190"
      },
      "source": [
        "import plotly.graph_objs as go\n",
        "\n",
        "fig = px.scatter_3d(dodge_df, x ='year', y='mileage', z='price') \n",
        "a,b,c = mlinreg.coef_[0],mlinreg.coef_[1], mlinreg.intercept_\n",
        "\n",
        "x = np.linspace(1886,2060,10)\n",
        "y = np.linspace(0,250000,10)\n",
        "\n",
        "X,Y = np.meshgrid(x,y)\n",
        "Z = (a*X+b*Y+c)\n",
        "fig.update_traces(marker=dict(size=5))\n",
        "fig.add_traces(go.Surface(x=X, y=Y, z=Z, name='pred_surface'))"
      ],
      "execution_count": null,
      "outputs": [
        {
          "output_type": "display_data",
          "data": {
            "text/html": [
              "<html>\n",
              "<head><meta charset=\"utf-8\" /></head>\n",
              "<body>\n",
              "    <div>\n",
              "            <script src=\"https://cdnjs.cloudflare.com/ajax/libs/mathjax/2.7.5/MathJax.js?config=TeX-AMS-MML_SVG\"></script><script type=\"text/javascript\">if (window.MathJax) {MathJax.Hub.Config({SVG: {font: \"STIX-Web\"}});}</script>\n",
              "                <script type=\"text/javascript\">window.PlotlyConfig = {MathJaxConfig: 'local'};</script>\n",
              "        <script src=\"https://cdn.plot.ly/plotly-latest.min.js\"></script>    \n",
              "            <div id=\"d4937710-3a05-469a-8ab2-6c85de629e22\" class=\"plotly-graph-div\" style=\"height:525px; width:100%;\"></div>\n",
              "            <script type=\"text/javascript\">\n",
              "                \n",
              "                    window.PLOTLYENV=window.PLOTLYENV || {};\n",
              "                    \n",
              "                if (document.getElementById(\"d4937710-3a05-469a-8ab2-6c85de629e22\")) {\n",
              "                    Plotly.newPlot(\n",
              "                        'd4937710-3a05-469a-8ab2-6c85de629e22',\n",
              "                        [{\"hoverlabel\": {\"namelength\": 0}, \"hovertemplate\": \"year=%{x}<br>mileage=%{y}<br>price=%{z}\", \"legendgroup\": \"\", \"marker\": {\"color\": \"#636efa\", \"size\": 5, \"symbol\": \"circle\"}, \"mode\": \"markers\", \"name\": \"\", \"scene\": \"scene\", \"showlegend\": false, \"type\": \"scatter3d\", \"x\": [2018, 2018, 2009, 2017, 2015, 2018, 2018, 2017, 2018, 2018, 2018, 2016, 2018, 2008, 2018, 2014, 2018, 2018, 2018, 2018, 2018, 2018, 2018, 2018, 2018, 2002, 2001, 2005, 2012, 2011, 2011, 2014, 2016, 2016, 2006, 2019, 2019, 2019, 2007, 2007, 2015, 2015, 2018, 2018, 2012, 2019, 2019, 2019, 2019, 2019, 2019, 2019, 2019, 2019, 2019, 2019, 2012, 2019, 2019, 2018, 2018, 2017, 2017, 2016, 2015, 2015, 2018, 2017, 2018, 2018, 2013, 2019, 2017, 2014, 2018, 2017, 2017, 2018, 2017, 2017, 2016, 2016, 2012, 2019, 2019, 2019, 2019, 2012, 2019, 2018, 2014, 2018, 2018, 2019, 2018, 2018, 2018, 2018, 2015, 2017, 2017, 2013, 2016, 2019, 2016, 2019, 2016, 2016, 2019, 2015, 2017, 2017, 2014, 2014, 2014, 2014, 2014, 2014, 2014, 2014, 2014, 2014, 2014, 2014, 2014, 2014, 2019, 2013, 2012, 2018, 2018, 2019, 2017, 2017, 2013, 2014, 2013, 2018, 2018, 2018, 2016, 2015, 2017, 2012, 2019, 2019, 2019, 2015, 2019, 2019, 2015, 2019, 2019, 2016, 2019, 2014, 2019, 2019, 2014, 2019, 2019, 2019, 2019, 2019, 2019, 2019, 2012, 2018, 2018, 2019, 2018, 2018, 2017, 2013, 2019, 2019, 2014, 2019, 2019, 2018, 2019, 2019, 2016, 2019, 2013, 2014, 2019, 2019, 2017, 2019, 2019, 2019, 2019, 2019, 2019, 2019, 2019, 2014, 2019, 2019, 2019, 2019, 2012, 2019, 2019, 2017, 2018, 2018, 2019, 2019, 2019, 2019, 2017, 2019, 2015, 2013, 2013, 2019, 2019, 2019, 2019, 2016, 2019, 2016, 2019, 2015, 2019, 2014, 2019, 2014, 2014, 2019, 2019, 2019, 2019, 2019, 2019, 2019, 2019, 2019, 2014, 2019, 2019, 2019, 2019, 2019, 2019, 2019, 2019, 2019, 2019, 2019, 2019, 2019, 2019, 2019, 2019, 2019, 2019, 2019, 2019, 2019, 2019, 2019, 2017, 2019, 2018, 2017, 2018, 2017, 2018, 2012, 2017, 2018, 2015, 2015, 2019, 2019, 2019, 2015, 2019, 2019, 2019, 2019, 2013, 2019, 2019, 2017, 2019, 2019, 2019, 2018, 2019, 2019, 2019, 2019, 2019, 2019, 2020, 2016, 2013, 2012, 2013, 2012, 2019, 2019, 2013, 2019, 2012, 2019, 2012, 2019, 2012, 2019, 2013, 2019, 2019, 2016, 2019, 2019, 2019, 2019, 2013, 2019, 2015, 2019, 2015, 2019, 2019, 2019, 2014, 2019, 2019, 2019, 2019, 2019, 2019, 2019, 2019, 2018, 2019, 2019, 2019, 2017, 2019, 2018, 2019, 2018, 2018, 2017, 2017, 2013, 2013, 2018, 2015, 2014, 2019, 2019, 2019, 2019, 2019, 2019, 2019, 2019, 2019, 2019, 2019, 2019, 2019, 2019, 2019, 2019, 2019, 2018, 2019, 2018, 2019, 2019, 2019, 2017, 2019, 2019, 2016, 2019, 2019, 2019, 2019, 2019, 2019, 2019, 2019, 2019, 2019, 2019, 2019, 2019, 2019, 2019, 2018, 2019, 2019, 2019, 2019, 2019, 2019, 2019, 2019, 2019, 2019, 2019, 2019, 2015, 2019, 2019, 2019, 2019, 2017, 2019, 2019, 2019, 2019, 2017, 2018, 2019, 2019, 2019, 2019, 2019, 2018, 2017, 2018, 2018], \"y\": [39590.0, 45561.0, 107856.0, 46829.0, 3641.0, 49496.0, 28307.0, 59537.0, 32870.0, 47085.0, 42989.0, 49033.0, 33957.0, 177948.0, 38910.0, 123660.0, 36767.0, 19420.0, 50765.0, 39029.0, 6743.0, 32504.0, 52966.0, 35461.0, 39721.0, 185460.0, 109360.0, 219823.0, 66452.0, 35275.0, 162281.0, 74203.0, 87229.0, 83262.0, 111782.0, 10944.0, 32251.0, 26549.0, 160528.0, 112182.0, 17355.0, 93423.0, 20575.0, 26026.0, 99015.0, 27327.0, 30229.0, 43294.0, 54309.0, 52822.0, 45554.0, 37538.0, 35153.0, 23783.0, 30759.0, 38922.0, 165836.0, 19235.0, 9445.0, 19164.0, 54106.0, 32051.0, 14870.0, 32294.0, 7250.0, 10145.0, 59924.0, 21304.0, 52079.0, 54960.0, 80099.0, 23987.0, 84144.0, 85639.0, 50193.0, 74392.0, 76117.0, 36358.0, 90685.0, 54141.0, 82240.0, 66167.0, 144220.0, 24722.0, 41198.0, 26353.0, 28280.0, 130120.0, 15340.0, 12265.0, 94872.0, 17946.0, 26996.0, 5775.0, 6748.0, 38128.0, 41636.0, 5359.0, 70296.0, 11346.0, 7415.0, 107593.0, 50639.0, 6530.0, 17432.0, 19636.0, 41748.0, 13162.0, 32937.0, 23095.0, 34432.0, 48162.0, 68310.0, 48000.0, 105962.0, 96575.0, 13239.0, 24934.0, 46859.0, 44468.0, 62230.0, 37082.0, 23964.0, 11204.0, 7608.0, 49982.0, 4950.0, 111628.0, 15927.0, 36299.0, 28469.0, 29086.0, 35991.0, 62224.0, 86500.0, 144725.0, 163260.0, 19636.0, 34272.0, 42909.0, 55749.0, 89142.0, 20328.0, 149332.0, 28551.0, 35098.0, 35365.0, 88398.0, 27957.0, 30161.0, 26292.0, 25780.0, 25032.0, 72248.0, 30630.0, 86125.0, 30408.0, 35443.0, 95377.0, 32724.0, 45089.0, 35948.0, 41601.0, 26370.0, 18271.0, 9476.0, 80899.0, 57394.0, 42190.0, 22591.0, 48681.0, 42621.0, 27761.0, 107768.0, 14355.0, 9467.0, 122837.0, 18313.0, 19506.0, 14750.0, 11280.0, 13944.0, 26922.0, 12690.0, 239822.0, 74975.0, 28289.0, 38041.0, 52386.0, 34391.0, 39515.0, 22074.0, 28782.0, 30092.0, 26443.0, 28981.0, 32865.0, 117258.0, 16397.0, 16176.0, 1091.0, 17472.0, 123882.0, 10341.0, 19695.0, 51041.0, 22646.0, 18138.0, 23987.0, 17160.0, 26929.0, 25815.0, 81992.0, 5000.0, 62683.0, 107224.0, 184905.0, 35153.0, 26474.0, 30943.0, 17154.0, 79637.0, 12123.0, 107822.0, 10221.0, 95278.0, 13457.0, 69936.0, 13520.0, 96922.0, 72594.0, 17896.0, 11088.0, 29567.0, 15655.0, 26428.0, 29003.0, 32229.0, 26503.0, 15446.0, 128556.0, 23369.0, 8767.0, 48319.0, 15275.0, 33826.0, 16679.0, 26184.0, 21203.0, 17870.0, 17909.0, 41126.0, 14098.0, 15003.0, 29105.0, 34794.0, 20034.0, 46942.0, 14753.0, 14359.0, 34922.0, 20944.0, 9877.0, 8949.0, 13627.0, 18291.0, 38029.0, 32593.0, 37352.0, 23030.0, 30671.0, 79544.0, 15027.0, 29115.0, 93604.0, 100203.0, 35401.0, 20279.0, 26090.0, 107924.0, 14906.0, 34407.0, 18049.0, 18132.0, 109176.0, 25456.0, 38375.0, 39792.0, 30403.0, 28252.0, 31904.0, 24336.0, 23961.0, 22919.0, 22863.0, 38817.0, 48854.0, 27288.0, 5284.0, 99988.0, 84109.0, 88539.0, 33739.0, 101017.0, 13906.0, 20601.0, 135561.0, 23421.0, 145174.0, 21309.0, 217576.0, 10350.0, 157636.0, 8605.0, 139404.0, 10170.0, 22272.0, 101906.0, 27019.0, 10930.0, 73552.0, 37107.0, 124247.0, 36993.0, 67133.0, 33580.0, 94140.0, 10447.0, 10229.0, 6269.0, 98699.0, 10631.0, 44381.0, 13960.0, 14051.0, 20800.0, 8873.0, 15502.0, 9669.0, 50873.0, 14117.0, 46820.0, 7247.0, 40991.0, 9023.0, 8047.0, 3966.0, 41014.0, 20907.0, 89795.0, 57158.0, 126718.0, 83976.0, 12554.0, 60707.0, 40110.0, 28038.0, 26643.0, 36127.0, 19983.0, 29926.0, 36750.0, 27312.0, 49575.0, 30279.0, 25825.0, 32474.0, 30585.0, 36203.0, 29602.0, 28689.0, 31447.0, 39148.0, 33495.0, 35274.0, 48745.0, 31297.0, 38745.0, 37704.0, 27060.0, 40002.0, 34930.0, 22863.0, 36876.0, 34264.0, 17515.0, 27071.0, 14656.0, 35652.0, 30055.0, 43088.0, 33641.0, 34797.0, 43943.0, 35744.0, 31542.0, 26899.0, 29985.0, 37009.0, 30731.0, 30062.0, 28295.0, 25534.0, 29716.0, 34294.0, 27643.0, 35516.0, 40674.0, 32494.0, 35047.0, 32898.0, 13740.0, 23132.0, 37174.0, 34023.0, 30021.0, 51469.0, 31237.0, 30186.0, 41956.0, 30727.0, 38956.0, 22036.0, 26462.0, 23143.0, 17340.0, 29749.0, 35248.0, 40417.0, 30309.0, 42303.0, 35326.0], \"z\": [5350, 5700, 10400, 5580, 39800, 23100, 25000, 11900, 4160, 5690, 5090, 6800, 4260, 0, 7210, 0, 6800, 10780, 4040, 4290, 4160, 6060, 6140, 6760, 5470, 1400, 5000, 8600, 15500, 15600, 18200, 10500, 4610, 4240, 14500, 67000, 33000, 31700, 25, 2320, 3570, 4700, 22500, 22500, 8300, 16500, 14500, 30000, 30000, 30000, 30000, 30000, 29500, 21600, 22600, 16300, 8600, 28800, 22100, 14300, 13700, 29500, 18500, 19000, 43400, 46000, 12500, 13900, 13000, 13000, 3000, 17500, 7900, 8900, 11500, 6500, 8000, 18700, 8350, 27900, 14500, 6200, 7500, 20200, 29300, 31000, 32400, 5800, 21500, 23100, 4500, 24800, 23000, 26900, 21500, 15700, 15200, 23300, 6100, 20000, 53000, 3000, 18200, 21800, 52000, 19000, 25000, 36000, 17000, 25300, 14900, 15000, 12995, 17750, 10295, 16995, 25000, 23995, 14900, 15810, 20227, 20999, 22499, 23495, 25250, 15322, 21232, 5800, 29000, 17000, 13800, 30000, 14800, 8500, 9800, 4200, 2500, 28700, 18500, 17300, 7100, 3250, 30700, 3000, 26500, 20800, 20800, 5100, 18900, 24000, 38800, 24500, 24500, 6500, 24000, 18000, 24000, 23500, 4500, 25900, 13900, 14200, 15400, 17500, 17500, 18000, 25200, 14100, 13300, 16200, 13300, 13100, 15500, 4500, 28400, 17400, 6000, 20700, 20300, 14000, 22000, 17200, 15000, 17500, 1300, 1750, 16300, 15700, 10000, 23100, 14900, 16700, 16300, 25800, 23800, 16800, 15500, 6000, 26900, 16900, 19500, 15400, 2300, 17000, 34000, 13700, 19100, 11800, 27500, 26900, 27100, 27200, 9000, 22500, 7700, 4500, 2200, 21500, 18800, 21800, 20300, 8200, 19000, 8400, 19500, 7000, 19500, 8500, 20500, 4900, 20800, 28500, 21900, 15800, 33000, 22700, 21900, 19300, 30700, 19300, 13750, 16400, 19500, 15100, 28500, 15300, 20300, 22000, 16700, 19300, 34100, 14600, 18200, 33800, 15900, 16500, 29600, 14100, 18200, 18200, 24300, 15400, 19000, 19000, 27800, 18200, 15000, 19200, 15500, 24900, 15500, 7600, 18400, 14700, 3900, 5200, 17200, 18700, 32000, 14500, 19400, 17300, 16700, 19100, 11100, 32000, 16900, 18000, 17800, 18000, 17500, 14500, 18500, 18600, 32000, 17000, 16000, 18000, 15900, 6200, 3700, 24000, 20800, 18500, 18300, 21000, 1300, 11900, 950, 26800, 800, 21000, 1900, 33500, 900, 21000, 26800, 5700, 18500, 33000, 11000, 15800, 3600, 16300, 2700, 12800, 9700, 18300, 16000, 21000, 3700, 33000, 14700, 33000, 15900, 33000, 33000, 32500, 33000, 13000, 33000, 16500, 33000, 34500, 33500, 48000, 54500, 13200, 31500, 17400, 26000, 1700, 11000, 21000, 5500, 7500, 15800, 16900, 25000, 18000, 15600, 23800, 16800, 22700, 23300, 23500, 25500, 21800, 22800, 18200, 23500, 25700, 15700, 17500, 15700, 16500, 16100, 15600, 15400, 28200, 15300, 15900, 17700, 15800, 15900, 25300, 16300, 29500, 14500, 15400, 15400, 15100, 15000, 15500, 15000, 15200, 15700, 16100, 16300, 16000, 16900, 17000, 17300, 15900, 15700, 16900, 15500, 15100, 15500, 15400, 16500, 42500, 16600, 15200, 15800, 16900, 11100, 15600, 16900, 15300, 16600, 21800, 36500, 26300, 20900, 20100, 26700, 23900, 14500, 23000, 15000, 15000]}, {\"name\": \"pred_surface\", \"type\": \"surface\", \"x\": [[1886.0, 1905.3333333333333, 1924.6666666666667, 1944.0, 1963.3333333333333, 1982.6666666666667, 2002.0, 2021.3333333333333, 2040.6666666666667, 2060.0], [1886.0, 1905.3333333333333, 1924.6666666666667, 1944.0, 1963.3333333333333, 1982.6666666666667, 2002.0, 2021.3333333333333, 2040.6666666666667, 2060.0], [1886.0, 1905.3333333333333, 1924.6666666666667, 1944.0, 1963.3333333333333, 1982.6666666666667, 2002.0, 2021.3333333333333, 2040.6666666666667, 2060.0], [1886.0, 1905.3333333333333, 1924.6666666666667, 1944.0, 1963.3333333333333, 1982.6666666666667, 2002.0, 2021.3333333333333, 2040.6666666666667, 2060.0], [1886.0, 1905.3333333333333, 1924.6666666666667, 1944.0, 1963.3333333333333, 1982.6666666666667, 2002.0, 2021.3333333333333, 2040.6666666666667, 2060.0], [1886.0, 1905.3333333333333, 1924.6666666666667, 1944.0, 1963.3333333333333, 1982.6666666666667, 2002.0, 2021.3333333333333, 2040.6666666666667, 2060.0], [1886.0, 1905.3333333333333, 1924.6666666666667, 1944.0, 1963.3333333333333, 1982.6666666666667, 2002.0, 2021.3333333333333, 2040.6666666666667, 2060.0], [1886.0, 1905.3333333333333, 1924.6666666666667, 1944.0, 1963.3333333333333, 1982.6666666666667, 2002.0, 2021.3333333333333, 2040.6666666666667, 2060.0], [1886.0, 1905.3333333333333, 1924.6666666666667, 1944.0, 1963.3333333333333, 1982.6666666666667, 2002.0, 2021.3333333333333, 2040.6666666666667, 2060.0], [1886.0, 1905.3333333333333, 1924.6666666666667, 1944.0, 1963.3333333333333, 1982.6666666666667, 2002.0, 2021.3333333333333, 2040.6666666666667, 2060.0]], \"y\": [[0.0, 0.0, 0.0, 0.0, 0.0, 0.0, 0.0, 0.0, 0.0, 0.0], [27777.777777777777, 27777.777777777777, 27777.777777777777, 27777.777777777777, 27777.777777777777, 27777.777777777777, 27777.777777777777, 27777.777777777777, 27777.777777777777, 27777.777777777777], [55555.555555555555, 55555.555555555555, 55555.555555555555, 55555.555555555555, 55555.555555555555, 55555.555555555555, 55555.555555555555, 55555.555555555555, 55555.555555555555, 55555.555555555555], [83333.33333333333, 83333.33333333333, 83333.33333333333, 83333.33333333333, 83333.33333333333, 83333.33333333333, 83333.33333333333, 83333.33333333333, 83333.33333333333, 83333.33333333333], [111111.11111111111, 111111.11111111111, 111111.11111111111, 111111.11111111111, 111111.11111111111, 111111.11111111111, 111111.11111111111, 111111.11111111111, 111111.11111111111, 111111.11111111111], [138888.88888888888, 138888.88888888888, 138888.88888888888, 138888.88888888888, 138888.88888888888, 138888.88888888888, 138888.88888888888, 138888.88888888888, 138888.88888888888, 138888.88888888888], [166666.66666666666, 166666.66666666666, 166666.66666666666, 166666.66666666666, 166666.66666666666, 166666.66666666666, 166666.66666666666, 166666.66666666666, 166666.66666666666, 166666.66666666666], [194444.44444444444, 194444.44444444444, 194444.44444444444, 194444.44444444444, 194444.44444444444, 194444.44444444444, 194444.44444444444, 194444.44444444444, 194444.44444444444, 194444.44444444444], [222222.22222222222, 222222.22222222222, 222222.22222222222, 222222.22222222222, 222222.22222222222, 222222.22222222222, 222222.22222222222, 222222.22222222222, 222222.22222222222, 222222.22222222222], [250000.0, 250000.0, 250000.0, 250000.0, 250000.0, 250000.0, 250000.0, 250000.0, 250000.0, 250000.0]], \"z\": [[87322.91144586192, 78272.1937394666, 69221.47603307117, 60170.75832667586, 51120.040620280546, 42069.32291388512, 33018.6052074898, 23967.88750109449, 14917.16979469906, 5866.452088303748], [82417.39302088798, 73366.67531449266, 64315.95760809723, 55265.23990170192, 46214.52219530661, 37163.80448891118, 28113.086782515864, 19062.36907612055, 10011.651369725121, 960.933663329808], [77511.87459591392, 68461.1568895186, 59410.43918312318, 50359.721476727864, 41309.00377033255, 32258.28606393712, 23207.568357541808, 14156.850651146495, 5106.132944751065, -3944.584761644248], [72606.35617093998, 63555.63846454467, 54504.92075814924, 45454.203051753924, 36403.48534535861, 27352.76763896318, 18302.04993256787, 9251.332226172555, 200.61451977712568, -8850.103186618187], [67700.83774596604, 58650.12003957073, 49599.4023331753, 40548.684626779985, 31497.96692038467, 22447.249213989242, 13396.531507593929, 4345.813801198616, -4704.903905196814, -13755.621611592127], [62795.319320991985, 53744.60161459667, 44693.88390820124, 35643.16620180593, 26592.448495410616, 17541.730789015186, 8491.013082619873, -559.7046237754403, -9610.42233017087, -18661.140036566183], [57889.800896018045, 48839.08318962273, 39788.3654832273, 30737.64777683199, 21686.930070436676, 12636.212364041246, 3585.4946576459333, -5465.22304874938, -14515.94075514481, -23566.658461540123], [52984.282471044105, 43933.56476464879, 34882.84705825336, 25832.12935185805, 16781.411645462736, 7730.693939067307, -1320.0237673280062, -10370.74147372332, -19421.45918011875, -28472.176886514062], [48078.76404607005, 39028.04633967474, 29977.328633279307, 20926.610926883994, 11875.89322048868, 2825.175514093251, -6225.542192302062, -15276.259898697375, -24326.977605092805, -33377.69531148812], [43173.24562109611, 34122.5279147008, 25071.810208305367, 16021.092501910054, 6970.374795514741, -2080.3429108806886, -11131.060617276002, -20181.778323671315, -29232.496030066744, -38283.21373646206]]}],\n",
              "                        {\"legend\": {\"tracegroupgap\": 0}, \"margin\": {\"t\": 60}, \"scene\": {\"domain\": {\"x\": [0.0, 1.0], \"y\": [0.0, 1.0]}, \"xaxis\": {\"title\": {\"text\": \"year\"}}, \"yaxis\": {\"title\": {\"text\": \"mileage\"}}, \"zaxis\": {\"title\": {\"text\": \"price\"}}}, \"template\": {\"data\": {\"bar\": [{\"error_x\": {\"color\": \"#2a3f5f\"}, \"error_y\": {\"color\": \"#2a3f5f\"}, \"marker\": {\"line\": {\"color\": \"#E5ECF6\", \"width\": 0.5}}, \"type\": \"bar\"}], \"barpolar\": [{\"marker\": {\"line\": {\"color\": \"#E5ECF6\", \"width\": 0.5}}, \"type\": \"barpolar\"}], \"carpet\": [{\"aaxis\": {\"endlinecolor\": \"#2a3f5f\", \"gridcolor\": \"white\", \"linecolor\": \"white\", \"minorgridcolor\": \"white\", \"startlinecolor\": \"#2a3f5f\"}, \"baxis\": {\"endlinecolor\": \"#2a3f5f\", \"gridcolor\": \"white\", \"linecolor\": \"white\", \"minorgridcolor\": \"white\", \"startlinecolor\": \"#2a3f5f\"}, \"type\": \"carpet\"}], \"choropleth\": [{\"colorbar\": {\"outlinewidth\": 0, \"ticks\": \"\"}, \"type\": \"choropleth\"}], \"contour\": [{\"colorbar\": {\"outlinewidth\": 0, \"ticks\": \"\"}, \"colorscale\": [[0.0, \"#0d0887\"], [0.1111111111111111, \"#46039f\"], [0.2222222222222222, \"#7201a8\"], [0.3333333333333333, \"#9c179e\"], [0.4444444444444444, \"#bd3786\"], [0.5555555555555556, \"#d8576b\"], [0.6666666666666666, \"#ed7953\"], [0.7777777777777778, \"#fb9f3a\"], [0.8888888888888888, \"#fdca26\"], [1.0, \"#f0f921\"]], \"type\": \"contour\"}], \"contourcarpet\": [{\"colorbar\": {\"outlinewidth\": 0, \"ticks\": \"\"}, \"type\": \"contourcarpet\"}], \"heatmap\": [{\"colorbar\": {\"outlinewidth\": 0, \"ticks\": \"\"}, \"colorscale\": [[0.0, \"#0d0887\"], [0.1111111111111111, \"#46039f\"], [0.2222222222222222, \"#7201a8\"], [0.3333333333333333, \"#9c179e\"], [0.4444444444444444, \"#bd3786\"], [0.5555555555555556, \"#d8576b\"], [0.6666666666666666, \"#ed7953\"], [0.7777777777777778, \"#fb9f3a\"], [0.8888888888888888, \"#fdca26\"], [1.0, \"#f0f921\"]], \"type\": \"heatmap\"}], \"heatmapgl\": [{\"colorbar\": {\"outlinewidth\": 0, \"ticks\": \"\"}, \"colorscale\": [[0.0, \"#0d0887\"], [0.1111111111111111, \"#46039f\"], [0.2222222222222222, \"#7201a8\"], [0.3333333333333333, \"#9c179e\"], [0.4444444444444444, \"#bd3786\"], [0.5555555555555556, \"#d8576b\"], [0.6666666666666666, \"#ed7953\"], [0.7777777777777778, \"#fb9f3a\"], [0.8888888888888888, \"#fdca26\"], [1.0, \"#f0f921\"]], \"type\": \"heatmapgl\"}], \"histogram\": [{\"marker\": {\"colorbar\": {\"outlinewidth\": 0, \"ticks\": \"\"}}, \"type\": \"histogram\"}], \"histogram2d\": [{\"colorbar\": {\"outlinewidth\": 0, \"ticks\": \"\"}, \"colorscale\": [[0.0, \"#0d0887\"], [0.1111111111111111, \"#46039f\"], [0.2222222222222222, \"#7201a8\"], [0.3333333333333333, \"#9c179e\"], [0.4444444444444444, \"#bd3786\"], [0.5555555555555556, \"#d8576b\"], [0.6666666666666666, \"#ed7953\"], [0.7777777777777778, \"#fb9f3a\"], [0.8888888888888888, \"#fdca26\"], [1.0, \"#f0f921\"]], \"type\": \"histogram2d\"}], \"histogram2dcontour\": [{\"colorbar\": {\"outlinewidth\": 0, \"ticks\": \"\"}, \"colorscale\": [[0.0, \"#0d0887\"], [0.1111111111111111, \"#46039f\"], [0.2222222222222222, \"#7201a8\"], [0.3333333333333333, \"#9c179e\"], [0.4444444444444444, \"#bd3786\"], [0.5555555555555556, \"#d8576b\"], [0.6666666666666666, \"#ed7953\"], [0.7777777777777778, \"#fb9f3a\"], [0.8888888888888888, \"#fdca26\"], [1.0, \"#f0f921\"]], \"type\": \"histogram2dcontour\"}], \"mesh3d\": [{\"colorbar\": {\"outlinewidth\": 0, \"ticks\": \"\"}, \"type\": \"mesh3d\"}], \"parcoords\": [{\"line\": {\"colorbar\": {\"outlinewidth\": 0, \"ticks\": \"\"}}, \"type\": \"parcoords\"}], \"pie\": [{\"automargin\": true, \"type\": \"pie\"}], \"scatter\": [{\"marker\": {\"colorbar\": {\"outlinewidth\": 0, \"ticks\": \"\"}}, \"type\": \"scatter\"}], \"scatter3d\": [{\"line\": {\"colorbar\": {\"outlinewidth\": 0, \"ticks\": \"\"}}, \"marker\": {\"colorbar\": {\"outlinewidth\": 0, \"ticks\": \"\"}}, \"type\": \"scatter3d\"}], \"scattercarpet\": [{\"marker\": {\"colorbar\": {\"outlinewidth\": 0, \"ticks\": \"\"}}, \"type\": \"scattercarpet\"}], \"scattergeo\": [{\"marker\": {\"colorbar\": {\"outlinewidth\": 0, \"ticks\": \"\"}}, \"type\": \"scattergeo\"}], \"scattergl\": [{\"marker\": {\"colorbar\": {\"outlinewidth\": 0, \"ticks\": \"\"}}, \"type\": \"scattergl\"}], \"scattermapbox\": [{\"marker\": {\"colorbar\": {\"outlinewidth\": 0, \"ticks\": \"\"}}, \"type\": \"scattermapbox\"}], \"scatterpolar\": [{\"marker\": {\"colorbar\": {\"outlinewidth\": 0, \"ticks\": \"\"}}, \"type\": \"scatterpolar\"}], \"scatterpolargl\": [{\"marker\": {\"colorbar\": {\"outlinewidth\": 0, \"ticks\": \"\"}}, \"type\": \"scatterpolargl\"}], \"scatterternary\": [{\"marker\": {\"colorbar\": {\"outlinewidth\": 0, \"ticks\": \"\"}}, \"type\": \"scatterternary\"}], \"surface\": [{\"colorbar\": {\"outlinewidth\": 0, \"ticks\": \"\"}, \"colorscale\": [[0.0, \"#0d0887\"], [0.1111111111111111, \"#46039f\"], [0.2222222222222222, \"#7201a8\"], [0.3333333333333333, \"#9c179e\"], [0.4444444444444444, \"#bd3786\"], [0.5555555555555556, \"#d8576b\"], [0.6666666666666666, \"#ed7953\"], [0.7777777777777778, \"#fb9f3a\"], [0.8888888888888888, \"#fdca26\"], [1.0, \"#f0f921\"]], \"type\": \"surface\"}], \"table\": [{\"cells\": {\"fill\": {\"color\": \"#EBF0F8\"}, \"line\": {\"color\": \"white\"}}, \"header\": {\"fill\": {\"color\": \"#C8D4E3\"}, \"line\": {\"color\": \"white\"}}, \"type\": \"table\"}]}, \"layout\": {\"annotationdefaults\": {\"arrowcolor\": \"#2a3f5f\", \"arrowhead\": 0, \"arrowwidth\": 1}, \"coloraxis\": {\"colorbar\": {\"outlinewidth\": 0, \"ticks\": \"\"}}, \"colorscale\": {\"diverging\": [[0, \"#8e0152\"], [0.1, \"#c51b7d\"], [0.2, \"#de77ae\"], [0.3, \"#f1b6da\"], [0.4, \"#fde0ef\"], [0.5, \"#f7f7f7\"], [0.6, \"#e6f5d0\"], [0.7, \"#b8e186\"], [0.8, \"#7fbc41\"], [0.9, \"#4d9221\"], [1, \"#276419\"]], \"sequential\": [[0.0, \"#0d0887\"], [0.1111111111111111, \"#46039f\"], [0.2222222222222222, \"#7201a8\"], [0.3333333333333333, \"#9c179e\"], [0.4444444444444444, \"#bd3786\"], [0.5555555555555556, \"#d8576b\"], [0.6666666666666666, \"#ed7953\"], [0.7777777777777778, \"#fb9f3a\"], [0.8888888888888888, \"#fdca26\"], [1.0, \"#f0f921\"]], \"sequentialminus\": [[0.0, \"#0d0887\"], [0.1111111111111111, \"#46039f\"], [0.2222222222222222, \"#7201a8\"], [0.3333333333333333, \"#9c179e\"], [0.4444444444444444, \"#bd3786\"], [0.5555555555555556, \"#d8576b\"], [0.6666666666666666, \"#ed7953\"], [0.7777777777777778, \"#fb9f3a\"], [0.8888888888888888, \"#fdca26\"], [1.0, \"#f0f921\"]]}, \"colorway\": [\"#636efa\", \"#EF553B\", \"#00cc96\", \"#ab63fa\", \"#FFA15A\", \"#19d3f3\", \"#FF6692\", \"#B6E880\", \"#FF97FF\", \"#FECB52\"], \"font\": {\"color\": \"#2a3f5f\"}, \"geo\": {\"bgcolor\": \"white\", \"lakecolor\": \"white\", \"landcolor\": \"#E5ECF6\", \"showlakes\": true, \"showland\": true, \"subunitcolor\": \"white\"}, \"hoverlabel\": {\"align\": \"left\"}, \"hovermode\": \"closest\", \"mapbox\": {\"style\": \"light\"}, \"paper_bgcolor\": \"white\", \"plot_bgcolor\": \"#E5ECF6\", \"polar\": {\"angularaxis\": {\"gridcolor\": \"white\", \"linecolor\": \"white\", \"ticks\": \"\"}, \"bgcolor\": \"#E5ECF6\", \"radialaxis\": {\"gridcolor\": \"white\", \"linecolor\": \"white\", \"ticks\": \"\"}}, \"scene\": {\"xaxis\": {\"backgroundcolor\": \"#E5ECF6\", \"gridcolor\": \"white\", \"gridwidth\": 2, \"linecolor\": \"white\", \"showbackground\": true, \"ticks\": \"\", \"zerolinecolor\": \"white\"}, \"yaxis\": {\"backgroundcolor\": \"#E5ECF6\", \"gridcolor\": \"white\", \"gridwidth\": 2, \"linecolor\": \"white\", \"showbackground\": true, \"ticks\": \"\", \"zerolinecolor\": \"white\"}, \"zaxis\": {\"backgroundcolor\": \"#E5ECF6\", \"gridcolor\": \"white\", \"gridwidth\": 2, \"linecolor\": \"white\", \"showbackground\": true, \"ticks\": \"\", \"zerolinecolor\": \"white\"}}, \"shapedefaults\": {\"line\": {\"color\": \"#2a3f5f\"}}, \"ternary\": {\"aaxis\": {\"gridcolor\": \"white\", \"linecolor\": \"white\", \"ticks\": \"\"}, \"baxis\": {\"gridcolor\": \"white\", \"linecolor\": \"white\", \"ticks\": \"\"}, \"bgcolor\": \"#E5ECF6\", \"caxis\": {\"gridcolor\": \"white\", \"linecolor\": \"white\", \"ticks\": \"\"}}, \"title\": {\"x\": 0.05}, \"xaxis\": {\"automargin\": true, \"gridcolor\": \"white\", \"linecolor\": \"white\", \"ticks\": \"\", \"title\": {\"standoff\": 15}, \"zerolinecolor\": \"white\", \"zerolinewidth\": 2}, \"yaxis\": {\"automargin\": true, \"gridcolor\": \"white\", \"linecolor\": \"white\", \"ticks\": \"\", \"title\": {\"standoff\": 15}, \"zerolinecolor\": \"white\", \"zerolinewidth\": 2}}}},\n",
              "                        {\"responsive\": true}\n",
              "                    ).then(function(){\n",
              "                            \n",
              "var gd = document.getElementById('d4937710-3a05-469a-8ab2-6c85de629e22');\n",
              "var x = new MutationObserver(function (mutations, observer) {{\n",
              "        var display = window.getComputedStyle(gd).display;\n",
              "        if (!display || display === 'none') {{\n",
              "            console.log([gd, 'removed!']);\n",
              "            Plotly.purge(gd);\n",
              "            observer.disconnect();\n",
              "        }}\n",
              "}});\n",
              "\n",
              "// Listen for the removal of the full notebook cells\n",
              "var notebookContainer = gd.closest('#notebook-container');\n",
              "if (notebookContainer) {{\n",
              "    x.observe(notebookContainer, {childList: true});\n",
              "}}\n",
              "\n",
              "// Listen for the clearing of the current output cell\n",
              "var outputEl = gd.closest('.output');\n",
              "if (outputEl) {{\n",
              "    x.observe(outputEl, {childList: true});\n",
              "}}\n",
              "\n",
              "                        })\n",
              "                };\n",
              "                \n",
              "            </script>\n",
              "        </div>\n",
              "</body>\n",
              "</html>"
            ]
          },
          "metadata": {
            "tags": []
          }
        }
      ]
    },
    {
      "cell_type": "code",
      "metadata": {
        "id": "CPqMFcfRkNtO"
      },
      "source": [
        ""
      ],
      "execution_count": null,
      "outputs": []
    }
  ]
}